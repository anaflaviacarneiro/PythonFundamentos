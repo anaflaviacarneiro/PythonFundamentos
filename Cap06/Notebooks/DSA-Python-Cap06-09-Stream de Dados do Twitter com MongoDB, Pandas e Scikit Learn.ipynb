{
 "cells": [
  {
   "cell_type": "markdown",
   "metadata": {},
   "source": [
    "# <font color='blue'>Data Science Academy - Python Fundamentos - Capítulo 6</font>\n",
    "\n",
    "## Download: http://github.com/dsacademybr"
   ]
  },
  {
   "cell_type": "code",
   "execution_count": 1,
   "metadata": {},
   "outputs": [
    {
     "name": "stdout",
     "output_type": "stream",
     "text": [
      "Versão da Linguagem Python Usada Neste Jupyter Notebook: 3.8.3\n"
     ]
    }
   ],
   "source": [
    "# Versão da Linguagem Python\n",
    "from platform import python_version\n",
    "print('Versão da Linguagem Python Usada Neste Jupyter Notebook:', python_version())"
   ]
  },
  {
   "cell_type": "markdown",
   "metadata": {},
   "source": [
    "## Stream de Dados do Twitter com MongoDB, Pandas e Scikit Learn"
   ]
  },
  {
   "cell_type": "markdown",
   "metadata": {},
   "source": [
    "## Preparando a Conexão com o Twitter"
   ]
  },
  {
   "cell_type": "code",
   "execution_count": 2,
   "metadata": {},
   "outputs": [
    {
     "name": "stdout",
     "output_type": "stream",
     "text": [
      "Collecting tweepy\n",
      "  Downloading tweepy-3.10.0-py2.py3-none-any.whl (30 kB)\n",
      "Requirement already satisfied: six>=1.10.0 in c:\\anaconda3\\lib\\site-packages (from tweepy) (1.15.0)\n",
      "Collecting requests-oauthlib>=0.7.0\n",
      "  Downloading requests_oauthlib-1.3.0-py2.py3-none-any.whl (23 kB)\n",
      "Requirement already satisfied: requests[socks]>=2.11.1 in c:\\anaconda3\\lib\\site-packages (from tweepy) (2.24.0)\n",
      "Collecting oauthlib>=3.0.0\n",
      "  Downloading oauthlib-3.1.0-py2.py3-none-any.whl (147 kB)\n",
      "Requirement already satisfied: urllib3!=1.25.0,!=1.25.1,<1.26,>=1.21.1 in c:\\anaconda3\\lib\\site-packages (from requests[socks]>=2.11.1->tweepy) (1.25.9)\n",
      "Requirement already satisfied: chardet<4,>=3.0.2 in c:\\anaconda3\\lib\\site-packages (from requests[socks]>=2.11.1->tweepy) (3.0.4)\n",
      "Requirement already satisfied: idna<3,>=2.5 in c:\\anaconda3\\lib\\site-packages (from requests[socks]>=2.11.1->tweepy) (2.10)\n",
      "Requirement already satisfied: certifi>=2017.4.17 in c:\\anaconda3\\lib\\site-packages (from requests[socks]>=2.11.1->tweepy) (2020.6.20)\n",
      "Requirement already satisfied: PySocks!=1.5.7,>=1.5.6; extra == \"socks\" in c:\\anaconda3\\lib\\site-packages (from requests[socks]>=2.11.1->tweepy) (1.7.1)\n",
      "Installing collected packages: oauthlib, requests-oauthlib, tweepy\n",
      "Successfully installed oauthlib-3.1.0 requests-oauthlib-1.3.0 tweepy-3.10.0\n"
     ]
    }
   ],
   "source": [
    "# Instala o pacote tweepy\n",
    "!pip install tweepy"
   ]
  },
  {
   "cell_type": "code",
   "execution_count": 4,
   "metadata": {},
   "outputs": [],
   "source": [
    "# Importando os módulos Tweepy, Datetime e Json\n",
    "from tweepy.streaming import StreamListener\n",
    "from tweepy import OAuthHandler\n",
    "from tweepy import Stream\n",
    "from datetime import datetime\n",
    "import json"
   ]
  },
  {
   "cell_type": "markdown",
   "metadata": {},
   "source": [
    "Veja no manual em pdf como criar sua API no Twitter e configure as suas chaves abaixo."
   ]
  },
  {
   "cell_type": "code",
   "execution_count": 53,
   "metadata": {},
   "outputs": [],
   "source": [
    "# Adicione aqui sua Consumer Key\n",
    "consumer_key = \"eBWvxGmgLLf7KYdfyaMDxuWkG\""
   ]
  },
  {
   "cell_type": "code",
   "execution_count": 54,
   "metadata": {},
   "outputs": [],
   "source": [
    "# Adicione aqui sua Consumer Secret \n",
    "consumer_secret = \"wCBogoL1WSXRTS0M0uRILtmo5Y73eZp1FxiwQKn9qwzldfJAQI\""
   ]
  },
  {
   "cell_type": "code",
   "execution_count": 55,
   "metadata": {},
   "outputs": [],
   "source": [
    "# Adicione aqui seu Access Token\n",
    "access_token = \"1347323940423794688-f3A4UDbjLqjEXbZ0huOXf2PY8jwWnz\""
   ]
  },
  {
   "cell_type": "code",
   "execution_count": 56,
   "metadata": {},
   "outputs": [],
   "source": [
    "# Adicione aqui seu Access Token Secret\n",
    "access_token_secret = \"YQ7W2Hus0utYJQjU7GR1avvIenf4NOUtslB5uovj153FM\""
   ]
  },
  {
   "cell_type": "code",
   "execution_count": 57,
   "metadata": {},
   "outputs": [],
   "source": [
    "# Criando as chaves de autenticação\n",
    "auth = OAuthHandler(consumer_key, consumer_secret)"
   ]
  },
  {
   "cell_type": "code",
   "execution_count": 58,
   "metadata": {},
   "outputs": [],
   "source": [
    "auth.set_access_token(access_token, access_token_secret)"
   ]
  },
  {
   "cell_type": "code",
   "execution_count": 59,
   "metadata": {},
   "outputs": [],
   "source": [
    "# Criando uma classe para capturar os stream de dados do Twitter e \n",
    "# armazenar no MongoDB\n",
    "class MyListener(StreamListener):\n",
    "    def on_data(self, dados):\n",
    "        tweet = json.loads(dados)\n",
    "        created_at = tweet[\"created_at\"]\n",
    "        id_str = tweet[\"id_str\"]\n",
    "        text = tweet[\"text\"]\n",
    "        obj = {\"created_at\":created_at,\"id_str\":id_str,\"text\":text,}\n",
    "        tweetind = col.insert_one(obj).inserted_id\n",
    "        print (obj)\n",
    "        return True"
   ]
  },
  {
   "cell_type": "code",
   "execution_count": 60,
   "metadata": {},
   "outputs": [],
   "source": [
    "# Criando o objeto mylistener\n",
    "mylistener = MyListener()"
   ]
  },
  {
   "cell_type": "code",
   "execution_count": 61,
   "metadata": {},
   "outputs": [],
   "source": [
    "# Criando o objeto mystream\n",
    "mystream = Stream(auth, listener = mylistener)"
   ]
  },
  {
   "cell_type": "markdown",
   "metadata": {},
   "source": [
    "## Preparando a Conexão com o MongoDB"
   ]
  },
  {
   "cell_type": "code",
   "execution_count": 62,
   "metadata": {},
   "outputs": [],
   "source": [
    "# Importando do PyMongo o módulo MongoClient\n",
    "from pymongo import MongoClient   "
   ]
  },
  {
   "cell_type": "code",
   "execution_count": 63,
   "metadata": {},
   "outputs": [],
   "source": [
    "# Criando a conexão ao MongoDB\n",
    "client = MongoClient('localhost', 27017)"
   ]
  },
  {
   "cell_type": "code",
   "execution_count": 64,
   "metadata": {},
   "outputs": [],
   "source": [
    "# Criando o banco de dados twitterdb\n",
    "db = client.twitterdb"
   ]
  },
  {
   "cell_type": "code",
   "execution_count": 65,
   "metadata": {},
   "outputs": [],
   "source": [
    "# Criando a collection \"col\"\n",
    "col = db.tweets "
   ]
  },
  {
   "cell_type": "code",
   "execution_count": 66,
   "metadata": {},
   "outputs": [],
   "source": [
    "# Criando uma lista de palavras chave para buscar nos Tweets\n",
    "keywords = ['Big Data', 'Python', 'Data Mining', 'Data Science']"
   ]
  },
  {
   "cell_type": "markdown",
   "metadata": {},
   "source": [
    "## Coletando os Tweets"
   ]
  },
  {
   "cell_type": "code",
   "execution_count": 67,
   "metadata": {
    "scrolled": false
   },
   "outputs": [
    {
     "name": "stdout",
     "output_type": "stream",
     "text": [
      "{'created_at': 'Thu Jan 07 23:49:26 +0000 2021', 'id_str': '1347329527769403394', 'text': 'I just entered to win a Sig Sauer MPX Copperhead &amp; Colt Python Revolver from @ClassicFirearm! Valued At $3500!… https://t.co/5XeaobjMN5', '_id': ObjectId('5ff79e0ba6b23d973f5c68f4')}\n",
      "{'created_at': 'Thu Jan 07 23:49:27 +0000 2021', 'id_str': '1347329531842080769', 'text': 'I just entered to win a Sig Sauer MPX Copperhead &amp; Colt Python Revolver from @ClassicFirearm! Valued At $3500!… https://t.co/webrdU0sNk', '_id': ObjectId('5ff79e0ca6b23d973f5c68f5')}\n",
      "{'created_at': 'Thu Jan 07 23:49:29 +0000 2021', 'id_str': '1347329541107118080', 'text': 'RT @BrianTh37895972: Expect to see a lot more about this over the next 13 days.\\n\\nThe big Italian defense contractor Leonardo SpA keeps surf…', '_id': ObjectId('5ff79e0ea6b23d973f5c68f6')}\n",
      "{'created_at': 'Thu Jan 07 23:49:30 +0000 2021', 'id_str': '1347329546761105409', 'text': 'Download Mobi Python Web Scraping Cookbook: Over 90 proven recipes to get you scraping with Python, micro services,… https://t.co/wb82Xr0gNn', '_id': ObjectId('5ff79e0fa6b23d973f5c68f7')}\n",
      "{'created_at': 'Thu Jan 07 23:49:31 +0000 2021', 'id_str': '1347329549969874945', 'text': 'RT @MrBriit: Special Udemy DISCOUNT Today: https://t.co/wMQVHNGa91.\\nLearn DATA SCIENCE and MACHINE LEARNING With 20+ Projects and DEPLOYMEN…', '_id': ObjectId('5ff79e10a6b23d973f5c68f8')}\n",
      "{'created_at': 'Thu Jan 07 23:49:31 +0000 2021', 'id_str': '1347329550427025410', 'text': 'RT @jamesjump: I just entered to win a Sig Sauer MPX Copperhead &amp; Colt Python Revolver from @ClassicFirearm! Valued At $3500! #sweepstakes…', '_id': ObjectId('5ff79e10a6b23d973f5c68f9')}\n",
      "{'created_at': 'Thu Jan 07 23:49:32 +0000 2021', 'id_str': '1347329552104624128', 'text': 'Big Data Grants Awarded to Ophthalmologists Working to Improve Patient Care https://t.co/Wxr8DmuyZy', '_id': ObjectId('5ff79e11a6b23d973f5c68fa')}\n",
      "{'created_at': 'Thu Jan 07 23:49:32 +0000 2021', 'id_str': '1347329552561930242', 'text': 'RT @ZayatAlex: Hola gente! Estoy buscando trabajo y recurro a ustedes porque son lo más.\\nEstoy buscando en consultoría macro o en finanzas.…', '_id': ObjectId('5ff79e11a6b23d973f5c68fb')}\n",
      "{'created_at': 'Thu Jan 07 23:49:32 +0000 2021', 'id_str': '1347329553941803009', 'text': 'RT @balt_swag: I just entered to win a Sig Sauer MPX Copperhead &amp; Colt Python Revolver from @ClassicFirearm! Valued At $3500! #sweepstakes…', '_id': ObjectId('5ff79e11a6b23d973f5c68fc')}\n",
      "{'created_at': 'Thu Jan 07 23:49:32 +0000 2021', 'id_str': '1347329556022177793', 'text': '@NelsonDaleSmith What kinds of Python stuff do you do?', '_id': ObjectId('5ff79e11a6b23d973f5c68fd')}\n",
      "{'created_at': 'Thu Jan 07 23:49:33 +0000 2021', 'id_str': '1347329557859332108', 'text': 'RT @JulianFaraway: My new book: \"Linear Models with Python\" is now available. Read the preface: https://t.co/IUCzCM9Je5  or buy the book: h…', '_id': ObjectId('5ff79e12a6b23d973f5c68fe')}\n",
      "{'created_at': 'Thu Jan 07 23:49:33 +0000 2021', 'id_str': '1347329559608373252', 'text': 'I just entered to win a Sig Sauer MPX Copperhead &amp; Colt Python Revolver from @ClassicFirearm! Valued At $3500!… https://t.co/6e3HuKIgDY', '_id': ObjectId('5ff79e12a6b23d973f5c68ff')}\n",
      "{'created_at': 'Thu Jan 07 23:49:37 +0000 2021', 'id_str': '1347329573919346688', 'text': \"Slowly but surely I'm hello worlding my way into this Python thing.\", '_id': ObjectId('5ff79e16a6b23d973f5c6900')}\n",
      "{'created_at': 'Thu Jan 07 23:49:37 +0000 2021', 'id_str': '1347329575651594240', 'text': 'RT @InnovationMerge: Day 52 - \"iNNovationMerge DailyCodeHub\"\\n\"{Refresh} [Revise] &lt;Reshare&gt;\"\\nPython program to Detect corner of an image usi…', '_id': ObjectId('5ff79e16a6b23d973f5c6901')}\n",
      "{'created_at': 'Thu Jan 07 23:49:37 +0000 2021', 'id_str': '1347329576561729536', 'text': 'RT @CajunGanja: @SexCounseling @_VioletRising_ I was wondering if this was the whole reason for yesterday. A big data grab', '_id': ObjectId('5ff79e16a6b23d973f5c6902')}\n",
      "{'created_at': 'Thu Jan 07 23:49:39 +0000 2021', 'id_str': '1347329582156963840', 'text': 'RT @13015Michael: I just entered to win a Sig Sauer MPX Copperhead &amp; Colt Python Revolver from @ClassicFirearm! Valued At $3500! #sweepstak…', '_id': ObjectId('5ff79e18a6b23d973f5c6903')}\n",
      "{'created_at': 'Thu Jan 07 23:49:42 +0000 2021', 'id_str': '1347329596014743555', 'text': 'Have you entered this sweepstakes to win a Sig Sauer MPX Copperhead &amp; Colt Python Revolver?\\nIf you enter using this… https://t.co/FUGxBXbjwR', '_id': ObjectId('5ff79e1ba6b23d973f5c6904')}\n",
      "{'created_at': 'Thu Jan 07 23:49:43 +0000 2021', 'id_str': '1347329599152287751', 'text': 'RT @InnovationMerge: Day 52 - \"iNNovationMerge DailyCodeHub\"\\n\"{Refresh} [Revise] &lt;Reshare&gt;\"\\nPython program to Detect corner of an image usi…', '_id': ObjectId('5ff79e1ca6b23d973f5c6905')}\n",
      "{'created_at': 'Thu Jan 07 23:49:50 +0000 2021', 'id_str': '1347329627782606849', 'text': 'RT @razaydotcom: Integrating my Python module with Django and Apache2 by Michael Jarvis https://t.co/7b9Etzcd6N', '_id': ObjectId('5ff79e23a6b23d973f5c6906')}\n",
      "{'created_at': 'Thu Jan 07 23:49:50 +0000 2021', 'id_str': '1347329630223687681', 'text': 'I just entered to win a Sig Sauer MPX Copperhead &amp; Colt Python Revolver from @ClassicFirearm! Valued At $3500!… https://t.co/MV3yvaYD76', '_id': ObjectId('5ff79e23a6b23d973f5c6907')}\n",
      "{'created_at': 'Thu Jan 07 23:49:51 +0000 2021', 'id_str': '1347329635202158592', 'text': '@HendraM22172987 @detikcom Izin nitip ya  jual tutorial skillshare, sampe template dll\\nTemanya beragam mulai dr:\\n p… https://t.co/QKJhfkH06C', '_id': ObjectId('5ff79e24a6b23d973f5c6908')}\n",
      "{'created_at': 'Thu Jan 07 23:49:52 +0000 2021', 'id_str': '1347329639346221057', 'text': 'RT @Muwangu12386789: #100DaysOfCode Day 67: Continued studying about sql.  I also implemented a BTS and learnt about  context processor in…', '_id': ObjectId('5ff79e25a6b23d973f5c6909')}\n",
      "{'created_at': 'Thu Jan 07 23:49:56 +0000 2021', 'id_str': '1347329653019717634', 'text': 'RT @GregWaldrop3: I just entered to win a Sig Sauer MPX Copperhead &amp; Colt Python Revolver from @ClassicFirearm! Valued At $3500! #sweepstak…', '_id': ObjectId('5ff79e29a6b23d973f5c690a')}\n",
      "{'created_at': 'Thu Jan 07 23:49:56 +0000 2021', 'id_str': '1347329652927459329', 'text': 'RT @BrianTh37895972: Expect to see a lot more about this over the next 13 days.\\n\\nThe big Italian defense contractor Leonardo SpA keeps surf…', '_id': ObjectId('5ff79e29a6b23d973f5c690b')}\n",
      "{'created_at': 'Thu Jan 07 23:49:56 +0000 2021', 'id_str': '1347329654533840904', 'text': 'I just entered to win a Sig Sauer MPX Copperhead &amp; Colt Python Revolver from @ClassicFirearm! Valued At $3500!… https://t.co/VlsIr0koLw', '_id': ObjectId('5ff79e29a6b23d973f5c690c')}\n",
      "{'created_at': 'Thu Jan 07 23:49:58 +0000 2021', 'id_str': '1347329663635435520', 'text': 'primeiro dia de python: garoto de programa', '_id': ObjectId('5ff79e2ba6b23d973f5c690d')}\n",
      "{'created_at': 'Thu Jan 07 23:49:59 +0000 2021', 'id_str': '1347329665774415872', 'text': 'I just entered to win a Sig Sauer MPX Copperhead &amp; Colt Python Revolver from @ClassicFirearm! Valued At $3500!… https://t.co/3sOOvvfUtl', '_id': ObjectId('5ff79e2ca6b23d973f5c690e')}\n",
      "{'created_at': 'Thu Jan 07 23:50:01 +0000 2021', 'id_str': '1347329676142927875', 'text': 'RT @RobertKennedyJr: The pandemic handed #Oracle CEO Larry Ellison what he’s wanted for decades — the power to curate the vast datasets hou…', '_id': ObjectId('5ff79e2ea6b23d973f5c690f')}\n",
      "{'created_at': 'Thu Jan 07 23:50:01 +0000 2021', 'id_str': '1347329676709130240', 'text': 'RT @ChiKillian: I just entered to win a Sig Sauer MPX Copperhead &amp; Colt Python Revolver from @ClassicFirearm! Valued At $3500! #sweepstakes…', '_id': ObjectId('5ff79e2ea6b23d973f5c6910')}\n",
      "{'created_at': 'Thu Jan 07 23:50:02 +0000 2021', 'id_str': '1347329680521613314', 'text': 'RT @Smart_NFT_News: 🎉@ONTOWallet ONTO cross-chain data wallet now supports @Dego_Finance\\n\\n🏷ONTO wallet Users can now access #DegoFinance th…', '_id': ObjectId('5ff79e2fa6b23d973f5c6911')}\n",
      "{'created_at': 'Thu Jan 07 23:50:03 +0000 2021', 'id_str': '1347329683977875456', 'text': 'RT @J_bortol: se que twitter es servicio pero andaria necesitando info de gente que se haya especializado en data science y que me cuenten…', '_id': ObjectId('5ff79e30a6b23d973f5c6912')}\n"
     ]
    },
    {
     "name": "stdout",
     "output_type": "stream",
     "text": [
      "{'created_at': 'Thu Jan 07 23:50:04 +0000 2021', 'id_str': '1347329688230883328', 'text': 'RT @BurtWhite6: I just entered to win a Sig Sauer MPX Copperhead &amp; Colt Python Revolver from @ClassicFirearm! Valued At $3500! #sweepstakes…', '_id': ObjectId('5ff79e31a6b23d973f5c6913')}\n",
      "{'created_at': 'Thu Jan 07 23:50:05 +0000 2021', 'id_str': '1347329694459457539', 'text': \"RT @jmulroy02: Day 68: I ran a Monte Carlo Simulation to analyze probable outcomes of Bitcoin's price trajectory over the next 365 trading…\", '_id': ObjectId('5ff79e32a6b23d973f5c6914')}\n",
      "{'created_at': 'Thu Jan 07 23:50:05 +0000 2021', 'id_str': '1347329694467813376', 'text': \"RT @jmulroy02: Day 68: I ran a Monte Carlo Simulation to analyze probable outcomes of Bitcoin's price trajectory over the next 365 trading…\", '_id': ObjectId('5ff79e32a6b23d973f5c6915')}\n",
      "{'created_at': 'Thu Jan 07 23:50:05 +0000 2021', 'id_str': '1347329694488788996', 'text': 'RT @shahandesmaeili: Day5: I code some challenges in a #python course and used slicing, while loops as part of the nested loops for some fu…', '_id': ObjectId('5ff79e32a6b23d973f5c6916')}\n",
      "{'created_at': 'Thu Jan 07 23:50:05 +0000 2021', 'id_str': '1347329694438465541', 'text': \"RT @jmulroy02: Day 68: I ran a Monte Carlo Simulation to analyze probable outcomes of Bitcoin's price trajectory over the next 365 trading…\", '_id': ObjectId('5ff79e33a6b23d973f5c6917')}\n",
      "{'created_at': 'Thu Jan 07 23:50:06 +0000 2021', 'id_str': '1347329694631403523', 'text': 'RT @shahandesmaeili: Day5: I code some challenges in a #python course and used slicing, while loops as part of the nested loops for some fu…', '_id': ObjectId('5ff79e33a6b23d973f5c6918')}\n",
      "{'created_at': 'Thu Jan 07 23:50:06 +0000 2021', 'id_str': '1347329696766316546', 'text': 'RT @accurate_best: Taking your orders now. Hmu\\n#History\\n#Course work\\n#Essay due\\n#fall classes\\n#onlineclasses\\n#Accounting\\n#quiz\\n#essay pay\\n#…', '_id': ObjectId('5ff79e33a6b23d973f5c6919')}\n",
      "{'created_at': 'Thu Jan 07 23:50:07 +0000 2021', 'id_str': '1347329702340538369', 'text': 'RT @RobertKennedyJr: The pandemic handed #Oracle CEO Larry Ellison what he’s wanted for decades — the power to curate the vast datasets hou…', '_id': ObjectId('5ff79e34a6b23d973f5c691a')}\n",
      "{'created_at': 'Thu Jan 07 23:50:07 +0000 2021', 'id_str': '1347329702508302337', 'text': '@JaviSchur Zuckerberg y Singer. Los traficantes de Big data, manipuladores de electores, entre otras cosas, silenci… https://t.co/RKjmHI2Um2', '_id': ObjectId('5ff79e34a6b23d973f5c691b')}\n",
      "{'created_at': 'Thu Jan 07 23:50:08 +0000 2021', 'id_str': '1347329704030834691', 'text': \"@ShaunTossell @montypython @EricIdle Amazing news.\\nPlease film all the python cameos asap, as they're not dead yet.… https://t.co/bsEvx8E53h\", '_id': ObjectId('5ff79e35a6b23d973f5c691c')}\n",
      "{'created_at': 'Thu Jan 07 23:50:09 +0000 2021', 'id_str': '1347329708225138688', 'text': 'RT @ZayatAlex: Hola gente! Estoy buscando trabajo y recurro a ustedes porque son lo más.\\nEstoy buscando en consultoría macro o en finanzas.…', '_id': ObjectId('5ff79e36a6b23d973f5c691d')}\n",
      "{'created_at': 'Thu Jan 07 23:50:10 +0000 2021', 'id_str': '1347329712704659458', 'text': 'I just entered to win a Sig Sauer MPX Copperhead &amp; Colt Python Revolver from @ClassicFirearm! Valued At $3500!… https://t.co/pLfZnb8W0O', '_id': ObjectId('5ff79e37a6b23d973f5c691e')}\n",
      "{'created_at': 'Thu Jan 07 23:50:10 +0000 2021', 'id_str': '1347329715082846208', 'text': 'RT @legitwriters_10: Get Genius assistance on ;\\n#essay\\n#Projecthelp\\n#computer science\\n#Term paper\\n#Engineering\\n#Pay someone do\\n#Assignments…', '_id': ObjectId('5ff79e37a6b23d973f5c691f')}\n",
      "{'created_at': 'Thu Jan 07 23:50:11 +0000 2021', 'id_str': '1347329719025471490', 'text': 'RT @stoacommunity: Day 1 of #100DaysOfCode - I also started programming in Javascript with a very simple syntax, and understanding why we n…', '_id': ObjectId('5ff79e38a6b23d973f5c6920')}\n",
      "{'created_at': 'Thu Jan 07 23:50:12 +0000 2021', 'id_str': '1347329719990157312', 'text': 'RT @MarvelLeona2: Taking your orders now. Hmu\\n#History\\n#Course work\\n#Essay due\\n#fall classes\\n#onlineclasses\\n#Accounting\\n#quiz\\n#essay pay\\n#A…', '_id': ObjectId('5ff79e39a6b23d973f5c6921')}\n",
      "{'created_at': 'Thu Jan 07 23:50:12 +0000 2021', 'id_str': '1347329723765059588', 'text': 'RT @RobertKennedyJr: The pandemic handed #Oracle CEO Larry Ellison what he’s wanted for decades — the power to curate the vast datasets hou…', '_id': ObjectId('5ff79e3aa6b23d973f5c6922')}\n",
      "{'created_at': 'Thu Jan 07 23:50:15 +0000 2021', 'id_str': '1347329732812148736', 'text': 'RT @ZayatAlex: Hola gente! Estoy buscando trabajo y recurro a ustedes porque son lo más.\\nEstoy buscando en consultoría macro o en finanzas.…', '_id': ObjectId('5ff79e3ca6b23d973f5c6923')}\n",
      "{'created_at': 'Thu Jan 07 23:50:15 +0000 2021', 'id_str': '1347329732736667649', 'text': 'I just entered to win a Sig Sauer MPX Copperhead &amp; Colt Python Revolver from @ClassicFirearm! Valued At $3500!… https://t.co/IsdTQQHJMG', '_id': ObjectId('5ff79e3ca6b23d973f5c6924')}\n",
      "{'created_at': 'Thu Jan 07 23:50:15 +0000 2021', 'id_str': '1347329734879944708', 'text': 'RT @DeanRanged: I just entered to win a Sig Sauer MPX Copperhead &amp; Colt Python Revolver from @ClassicFirearm! Valued At $3500! #sweepstakes…', '_id': ObjectId('5ff79e3ca6b23d973f5c6925')}\n",
      "{'created_at': 'Thu Jan 07 23:50:16 +0000 2021', 'id_str': '1347329736717062145', 'text': 'Armin Van Buuren \"Christmas Time\" Chart [January 2021] - Music/Style: #Best Of #Electronic / House / Progressive /… https://t.co/hmfWDJiiUR', '_id': ObjectId('5ff79e3da6b23d973f5c6926')}\n",
      "{'created_at': 'Thu Jan 07 23:50:17 +0000 2021', 'id_str': '1347329740949123074', 'text': 'RT @ShaunTossell: NEWS: ⭐ MONTY PYTHON’S SPAMALOT – MUSICAL FILM ADAPTATION ANNOUNCED – DIRECTED BY CASEY NICHOLAW ⭐\\n\\nRead more - https://t…', '_id': ObjectId('5ff79e3ea6b23d973f5c6927')}\n",
      "{'created_at': 'Thu Jan 07 23:50:17 +0000 2021', 'id_str': '1347329742077366273', 'text': '\"Life is the dancer and you are the dance.\"- Eckhart Tolle  #softwareengineer #javascript #python #C++ #golang… https://t.co/MmknPaWFBk', '_id': ObjectId('5ff79e3ea6b23d973f5c6928')}\n",
      "{'created_at': 'Thu Jan 07 23:50:17 +0000 2021', 'id_str': '1347329744065409024', 'text': 'I just entered to win a Sig Sauer MPX Copperhead &amp; Colt Python Revolver from @ClassicFirearm! Valued At $3500!… https://t.co/BaUMovZL4d', '_id': ObjectId('5ff79e3ea6b23d973f5c6929')}\n",
      "{'created_at': 'Thu Jan 07 23:50:18 +0000 2021', 'id_str': '1347329748511436801', 'text': 'RT @glitchbotio: \"Life is the dancer and you are the dance.\"- Eckhart Tolle  #softwareengineer #javascript #python #C++ #golang #nodejs #re…', '_id': ObjectId('5ff79e3fa6b23d973f5c692a')}\n",
      "{'created_at': 'Thu Jan 07 23:50:19 +0000 2021', 'id_str': '1347329750621179908', 'text': 'I just entered to win a Sig Sauer MPX Copperhead &amp; Colt Python Revolver from @ClassicFirearm! Valued At $3500!… https://t.co/p8gPlQv19l', '_id': ObjectId('5ff79e40a6b23d973f5c692b')}\n",
      "{'created_at': 'Thu Jan 07 23:50:19 +0000 2021', 'id_str': '1347329753167114240', 'text': '3 (Or More) Ways to Open a CSV in Python https://t.co/5gK3Z2BVhu #python #dataengineering #data #pandad', '_id': ObjectId('5ff79e40a6b23d973f5c692c')}\n",
      "{'created_at': 'Thu Jan 07 23:50:20 +0000 2021', 'id_str': '1347329754836381701', 'text': 'RT @blazrod172: I just entered to win a Sig Sauer MPX Copperhead &amp; Colt Python Revolver from @ClassicFirearm! Valued At $3500! #sweepstakes…', '_id': ObjectId('5ff79e41a6b23d973f5c692d')}\n",
      "{'created_at': 'Thu Jan 07 23:50:21 +0000 2021', 'id_str': '1347329761517834241', 'text': '@barkhah_bpp @na_dirs Izin nitip ya  jual tutorial skillshare, sampe template dll\\nTemanya beragam mulai dr:\\n photos… https://t.co/xnpHcQcCRF', '_id': ObjectId('5ff79e42a6b23d973f5c692e')}\n",
      "{'created_at': 'Thu Jan 07 23:50:22 +0000 2021', 'id_str': '1347329765020037120', 'text': 'RT @glitchbotio: \"Life is the dancer and you are the dance.\"- Eckhart Tolle  #softwareengineer #javascript #python #C++ #golang #nodejs #re…', '_id': ObjectId('5ff79e43a6b23d973f5c692f')}\n",
      "{'created_at': 'Thu Jan 07 23:50:23 +0000 2021', 'id_str': '1347329766198808576', 'text': 'RT @JonSweet1024: I just entered to win a Sig Sauer MPX Copperhead &amp; Colt Python Revolver from @ClassicFirearm! Valued At $3500! #sweepstak…', '_id': ObjectId('5ff79e44a6b23d973f5c6930')}\n"
     ]
    },
    {
     "name": "stdout",
     "output_type": "stream",
     "text": [
      "{'created_at': 'Thu Jan 07 23:50:23 +0000 2021', 'id_str': '1347329767071227906', 'text': 'RT @glitchbotio: \"Life is the dancer and you are the dance.\"- Eckhart Tolle  #softwareengineer #javascript #python #C++ #golang #nodejs #re…', '_id': ObjectId('5ff79e44a6b23d973f5c6931')}\n",
      "{'created_at': 'Thu Jan 07 23:50:23 +0000 2021', 'id_str': '1347329767280758784', 'text': 'I just entered to win a Sig Sauer MPX Copperhead &amp; Colt Python Revolver from @ClassicFirearm! Valued At $3500!… https://t.co/ywMbKQjfi8', '_id': ObjectId('5ff79e44a6b23d973f5c6932')}\n",
      "{'created_at': 'Thu Jan 07 23:50:24 +0000 2021', 'id_str': '1347329772972490752', 'text': 'RT @rays_fan_11: I just entered to win a Sig Sauer MPX Copperhead &amp; Colt Python Revolver from @ClassicFirearm! Valued At $3500! #sweepstake…', '_id': ObjectId('5ff79e45a6b23d973f5c6933')}\n",
      "{'created_at': 'Thu Jan 07 23:50:25 +0000 2021', 'id_str': '1347329777338867718', 'text': 'RT @danieldataguy: 3 (Or More) Ways to Open a CSV in Python https://t.co/5gK3Z2BVhu #python #dataengineering #data #pandad', '_id': ObjectId('5ff79e46a6b23d973f5c6934')}\n",
      "{'created_at': 'Thu Jan 07 23:50:28 +0000 2021', 'id_str': '1347329789422657543', 'text': 'RT @zdog68: I just entered to win a Sig Sauer MPX Copperhead &amp; Colt Python Revolver from @ClassicFirearm! Valued At $3500! #sweepstakes #Si…', '_id': ObjectId('5ff79e49a6b23d973f5c6935')}\n",
      "{'created_at': 'Thu Jan 07 23:50:28 +0000 2021', 'id_str': '1347329789196201985', 'text': 'I just entered to win a Sig Sauer MPX Copperhead &amp; Colt Python Revolver from @ClassicFirearm! Valued At $3500!… https://t.co/BcBKedb2KL', '_id': ObjectId('5ff79e49a6b23d973f5c6936')}\n",
      "{'created_at': 'Thu Jan 07 23:50:29 +0000 2021', 'id_str': '1347329794992701441', 'text': \"@AgentHotep Using WhatsApp? In Feb you will have  to share yr personal data with Facebook . It's necessary  to disa… https://t.co/ywFBEqC4Eh\", '_id': ObjectId('5ff79e4aa6b23d973f5c6937')}\n",
      "{'created_at': 'Thu Jan 07 23:50:32 +0000 2021', 'id_str': '1347329807487537154', 'text': 'RT @glitchbotio: \"Life is the dancer and you are the dance.\"- Eckhart Tolle  #softwareengineer #javascript #python #C++ #golang #nodejs #re…', '_id': ObjectId('5ff79e4da6b23d973f5c6938')}\n",
      "{'created_at': 'Thu Jan 07 23:50:33 +0000 2021', 'id_str': '1347329811623145472', 'text': 'RT @mark_redenbaugh: I just entered to win a Sig Sauer MPX Copperhead &amp; Colt Python Revolver from @ClassicFirearm! Valued At $3500! #sweeps…', '_id': ObjectId('5ff79e4ea6b23d973f5c6939')}\n",
      "{'created_at': 'Thu Jan 07 23:50:33 +0000 2021', 'id_str': '1347329811920912384', 'text': \"RT @Jer1dah: Don't sleep on Udemy. There are financial modeling and data science courses for R200.\\n\\nIf you want to study a course on Udemy…\", '_id': ObjectId('5ff79e4ea6b23d973f5c693a')}\n",
      "{'created_at': 'Thu Jan 07 23:50:34 +0000 2021', 'id_str': '1347329815314112513', 'text': '@CAIPRESENTE El departamento de Big Data dentro de la Secretaría Tecnica debe proveer informes como éste para que e… https://t.co/dpQstrnHgD', '_id': ObjectId('5ff79e4fa6b23d973f5c693b')}\n",
      "{'created_at': 'Thu Jan 07 23:50:36 +0000 2021', 'id_str': '1347329823476211715', 'text': 'I just entered to win a Sig Sauer MPX Copperhead &amp; Colt Python Revolver from @ClassicFirearm! Valued At $3500!… https://t.co/KU3JqEwZuN', '_id': ObjectId('5ff79e51a6b23d973f5c693c')}\n",
      "{'created_at': 'Thu Jan 07 23:50:36 +0000 2021', 'id_str': '1347329823597883392', 'text': 'Ready for my talk at 9.00am at IJCAI 2020 Workshop Data Science Meets Optimization ! \\n\\nIf you like the title, pleas… https://t.co/GxPosGOzFD', '_id': ObjectId('5ff79e51a6b23d973f5c693d')}\n",
      "{'created_at': 'Thu Jan 07 23:50:37 +0000 2021', 'id_str': '1347329825942294528', 'text': 'RT @elerianm: Thanks @lisaabramowicz1\\n\\nYet another reason to keep an eye on yield curve developments in the US Treasury market. \\n\\nAs I note…', '_id': ObjectId('5ff79e52a6b23d973f5c693e')}\n",
      "{'created_at': 'Thu Jan 07 23:50:39 +0000 2021', 'id_str': '1347329833790013440', 'text': 'RT @Goldbarstocks: $BMIX 8k out!! Ceo believe so much getting paid in shares.  #Bullish #update #miner #HUMPDAYD  #investing #silver #MININ…', '_id': ObjectId('5ff79e54a6b23d973f5c693f')}\n",
      "{'created_at': 'Thu Jan 07 23:50:42 +0000 2021', 'id_str': '1347329845647331328', 'text': 'RT @jacklarrygrimm1: I just entered to win a Sig Sauer MPX Copperhead &amp; Colt Python Revolver from @ClassicFirearm! Valued At $3500! #sweeps…', '_id': ObjectId('5ff79e57a6b23d973f5c6940')}\n",
      "{'created_at': 'Thu Jan 07 23:50:42 +0000 2021', 'id_str': '1347329848277164033', 'text': 'RT @MrBriit: Special Udemy DISCOUNT Today: https://t.co/wMQVHNGa91.\\nLearn DATA SCIENCE and MACHINE LEARNING With 20+ Projects and DEPLOYMEN…', '_id': ObjectId('5ff79e57a6b23d973f5c6941')}\n",
      "{'created_at': 'Thu Jan 07 23:50:43 +0000 2021', 'id_str': '1347329850705588229', 'text': 'RT @ZayatAlex: Hola gente! Estoy buscando trabajo y recurro a ustedes porque son lo más.\\nEstoy buscando en consultoría macro o en finanzas.…', '_id': ObjectId('5ff79e58a6b23d973f5c6942')}\n",
      "{'created_at': 'Thu Jan 07 23:50:43 +0000 2021', 'id_str': '1347329851678740480', 'text': 'RT @HarbRimah: 8 top data science applications and use cases for businesses https://t.co/vlcLDPUVtc \\n\\n#MachineLearning #DataScience #Python…', '_id': ObjectId('5ff79e58a6b23d973f5c6943')}\n",
      "{'created_at': 'Thu Jan 07 23:50:43 +0000 2021', 'id_str': '1347329851913547777', 'text': 'RT @H0U3: ThankYOU @CastlDalmunzie for this excellent thread.  $CAPR @Capricor $BPSR @organicellTM related.  Best! https://t.co/crIjkRuZjM', '_id': ObjectId('5ff79e58a6b23d973f5c6944')}\n",
      "{'created_at': 'Thu Jan 07 23:50:43 +0000 2021', 'id_str': '1347329852697767939', 'text': \"@grbenny I am sort of now concluding that Jaques Tati was the inspiration for this skit.  I hadn't seen his films w… https://t.co/luHvLhRdNv\", '_id': ObjectId('5ff79e58a6b23d973f5c6945')}\n",
      "{'created_at': 'Thu Jan 07 23:50:44 +0000 2021', 'id_str': '1347329857663877121', 'text': 'RT @machinelearnflx: Deep Learning Project Building with Python and Keras https://t.co/bcZfKtJr7J  #machinelearning #ad', '_id': ObjectId('5ff79e59a6b23d973f5c6946')}\n",
      "{'created_at': 'Thu Jan 07 23:50:45 +0000 2021', 'id_str': '1347329860134432768', 'text': 'RT @glitchbotio: \"Life is the dancer and you are the dance.\"- Eckhart Tolle  #softwareengineer #javascript #python #C++ #golang #nodejs #re…', '_id': ObjectId('5ff79e5aa6b23d973f5c6947')}\n",
      "{'created_at': 'Thu Jan 07 23:50:45 +0000 2021', 'id_str': '1347329860272840704', 'text': 'RT @stoacommunity: Day 1 of #100DaysOfCode - I also started programming in Javascript with a very simple syntax, and understanding why we n…', '_id': ObjectId('5ff79e5aa6b23d973f5c6948')}\n",
      "{'created_at': 'Thu Jan 07 23:50:47 +0000 2021', 'id_str': '1347329869902966785', 'text': 'Time : 2021-01-07T23:50:47.6475690Z\\n\\n#Coding Test now.\\n#Someone #dark #Python #C++ #Telegram #facebook #twitter… https://t.co/KT7fOQ0PxZ', '_id': ObjectId('5ff79e5ca6b23d973f5c6949')}\n",
      "{'created_at': 'Thu Jan 07 23:50:48 +0000 2021', 'id_str': '1347329871568130048', 'text': 'RT @MrBriit: Special Udemy DISCOUNT Today: https://t.co/wMQVHNGa91.\\nLearn DATA SCIENCE and MACHINE LEARNING With 20+ Projects and DEPLOYMEN…', '_id': ObjectId('5ff79e5da6b23d973f5c694a')}\n",
      "{'created_at': 'Thu Jan 07 23:50:48 +0000 2021', 'id_str': '1347329872469716993', 'text': 'https://t.co/Mn4LyHVSof', '_id': ObjectId('5ff79e5da6b23d973f5c694b')}\n",
      "{'created_at': 'Thu Jan 07 23:50:48 +0000 2021', 'id_str': '1347329874239881217', 'text': 'RT @ZayatAlex: Hola gente! Estoy buscando trabajo y recurro a ustedes porque son lo más.\\nEstoy buscando en consultoría macro o en finanzas.…', '_id': ObjectId('5ff79e5da6b23d973f5c694c')}\n",
      "{'created_at': 'Thu Jan 07 23:50:49 +0000 2021', 'id_str': '1347329876068425729', 'text': 'RT @H0U3: ThankYOU @CastlDalmunzie for this excellent thread.  $CAPR @Capricor $BPSR @organicellTM related.  Best! https://t.co/crIjkRuZjM', '_id': ObjectId('5ff79e5ea6b23d973f5c694d')}\n",
      "{'created_at': 'Thu Jan 07 23:50:50 +0000 2021', 'id_str': '1347329883169546240', 'text': 'RT @RobertKennedyJr: The pandemic handed #Oracle CEO Larry Ellison what he’s wanted for decades — the power to curate the vast datasets hou…', '_id': ObjectId('5ff79e5fa6b23d973f5c694e')}\n"
     ]
    },
    {
     "name": "stdout",
     "output_type": "stream",
     "text": [
      "{'created_at': 'Thu Jan 07 23:50:51 +0000 2021', 'id_str': '1347329887372267527', 'text': 'RT @First1Saudi: شاب سعودي كفيف رفضته الجامعة بسبب إعاقته لكن لم يستسلم وأصبح مبرمج حاسب آلي.\\nعبدالعزيز حويمد الشماسي 🇸🇦\\n《 أول كفيف سعودي ي…', '_id': ObjectId('5ff79e60a6b23d973f5c694f')}\n",
      "{'created_at': 'Thu Jan 07 23:50:51 +0000 2021', 'id_str': '1347329887154163715', 'text': \"Using WhatsApp? In Feb you will have  to share yr personal data with Facebook . It's necessary  to disassociate fro… https://t.co/YbPoEdtpUG\", '_id': ObjectId('5ff79e60a6b23d973f5c6950')}\n",
      "{'created_at': 'Thu Jan 07 23:50:52 +0000 2021', 'id_str': '1347329888227741697', 'text': 'RT @glitchbotio: \"Life is the dancer and you are the dance.\"- Eckhart Tolle  #softwareengineer #javascript #python #C++ #golang #nodejs #re…', '_id': ObjectId('5ff79e61a6b23d973f5c6951')}\n",
      "{'created_at': 'Thu Jan 07 23:50:52 +0000 2021', 'id_str': '1347329890140344321', 'text': 'Oracle CEO Larry Ellison will curate the vast datasets that house our medical, financial and personal information e… https://t.co/cHfUVsJHSO', '_id': ObjectId('5ff79e61a6b23d973f5c6952')}\n",
      "{'created_at': 'Thu Jan 07 23:50:53 +0000 2021', 'id_str': '1347329893240025089', 'text': 'RT @Kada_soulayman: Time : 2021-01-07T23:50:47.6475690Z\\n\\n#Coding Test now.\\n#Someone #dark #Python #C++ #Telegram #facebook #twitter #instag…', '_id': ObjectId('5ff79e62a6b23d973f5c6953')}\n",
      "{'created_at': 'Thu Jan 07 23:50:54 +0000 2021', 'id_str': '1347329896129957889', 'text': 'RT @BrianTh37895972: Expect to see a lot more about this over the next 13 days.\\n\\nThe big Italian defense contractor Leonardo SpA keeps surf…', '_id': ObjectId('5ff79e63a6b23d973f5c6954')}\n",
      "{'created_at': 'Thu Jan 07 23:50:54 +0000 2021', 'id_str': '1347329898730434560', 'text': '@OpIndia_com Monty python schooled!! Love it!', '_id': ObjectId('5ff79e63a6b23d973f5c6955')}\n",
      "{'created_at': 'Thu Jan 07 23:50:55 +0000 2021', 'id_str': '1347329900236201987', 'text': 'RT @ashwinmegha: The 4 steps that engineers should consider for a complete, AI-driven workflow.  @MathWorks \\n\\n#BigData #Analytics #DataScie…', '_id': ObjectId('5ff79e64a6b23d973f5c6956')}\n",
      "{'created_at': 'Thu Jan 07 23:50:56 +0000 2021', 'id_str': '1347329906426916874', 'text': 'RT @mattprescott: @StefSimanowitz has focused his attention on PALANTIR and the use of health data by big tech companies, as they attempt t…', '_id': ObjectId('5ff79e65a6b23d973f5c6957')}\n",
      "{'created_at': 'Thu Jan 07 23:50:56 +0000 2021', 'id_str': '1347329908310216704', 'text': 'RT @ZayatAlex: Hola gente! Estoy buscando trabajo y recurro a ustedes porque son lo más.\\nEstoy buscando en consultoría macro o en finanzas.…', '_id': ObjectId('5ff79e65a6b23d973f5c6958')}\n",
      "{'created_at': 'Thu Jan 07 23:50:57 +0000 2021', 'id_str': '1347329912143753218', 'text': 'RT @Grandma26244385: Oracle CEO Larry Ellison will curate the vast datasets that house our medical, financial and personal information enab…', '_id': ObjectId('5ff79e66a6b23d973f5c6959')}\n",
      "{'created_at': 'Thu Jan 07 23:50:59 +0000 2021', 'id_str': '1347329916841418763', 'text': 'I just entered to win a Sig Sauer MPX Copperhead &amp; Colt Python Revolver from @ClassicFirearm! Valued At $3500!… https://t.co/znBjujgTTG', '_id': ObjectId('5ff79e68a6b23d973f5c695a')}\n",
      "{'created_at': 'Thu Jan 07 23:51:01 +0000 2021', 'id_str': '1347329927604019202', 'text': 'RT @ashwinmegha: The 4 steps that engineers should consider for a complete, AI-driven workflow.  @MathWorks \\n\\n#BigData #Analytics #DataScie…', '_id': ObjectId('5ff79e6aa6b23d973f5c695b')}\n",
      "{'created_at': 'Thu Jan 07 23:51:02 +0000 2021', 'id_str': '1347329930867208194', 'text': 'RT @ComedyMovieLine: Monty Python and the Holy Grail https://t.co/YNaCMA54FE', '_id': ObjectId('5ff79e6ba6b23d973f5c695c')}\n",
      "{'created_at': 'Thu Jan 07 23:51:04 +0000 2021', 'id_str': '1347329938995761153', 'text': 'RT @ashwinmegha: The 4 steps that engineers should consider for a complete, AI-driven workflow.  @MathWorks \\n\\n#BigData #Analytics #DataScie…', '_id': ObjectId('5ff79e6da6b23d973f5c695d')}\n",
      "{'created_at': 'Thu Jan 07 23:51:04 +0000 2021', 'id_str': '1347329939599749124', 'text': 'RT @Recon135s: I just entered to win a Sig Sauer MPX Copperhead &amp; Colt Python Revolver from @ClassicFirearm! Valued At $3500! #sweepstakes…', '_id': ObjectId('5ff79e6da6b23d973f5c695e')}\n",
      "{'created_at': 'Thu Jan 07 23:51:05 +0000 2021', 'id_str': '1347329943215202315', 'text': 'RT @NotZachDavidson: Come intern at Village! \\n\\nYou’ll help build infrastructure to support hundreds (and then thousands) of founders at sca…', '_id': ObjectId('5ff79e6ea6b23d973f5c695f')}\n",
      "{'created_at': 'Thu Jan 07 23:51:07 +0000 2021', 'id_str': '1347329951574450176', 'text': 'RT @machinelearnflx: TRIPODS Winter School &amp; Workshop on Graph Learning and Deep Learning – Mathematical Institute for Data Science https:/…', '_id': ObjectId('5ff79e70a6b23d973f5c6960')}\n",
      "{'created_at': 'Thu Jan 07 23:51:08 +0000 2021', 'id_str': '1347329958058876930', 'text': 'RT @ZayatAlex: Hola gente! Estoy buscando trabajo y recurro a ustedes porque son lo más.\\nEstoy buscando en consultoría macro o en finanzas.…', '_id': ObjectId('5ff79e71a6b23d973f5c6961')}\n",
      "{'created_at': 'Thu Jan 07 23:51:09 +0000 2021', 'id_str': '1347329961116356609', 'text': 'RT @ComedyMovieLine: Monty Python and the Holy Grail https://t.co/WX0aAR7Kt5', '_id': ObjectId('5ff79e72a6b23d973f5c6962')}\n",
      "{'created_at': 'Thu Jan 07 23:51:10 +0000 2021', 'id_str': '1347329963545030659', 'text': 'RT @Paula_Piccard: Women in AI and Analytics Survey Report \\n\\n#MachineLearning #Python #AI #100DaysOfCode #DEVCommunity\\n#DevOps #IoT #flutte…', '_id': ObjectId('5ff79e73a6b23d973f5c6963')}\n",
      "{'created_at': 'Thu Jan 07 23:51:11 +0000 2021', 'id_str': '1347329968200687617', 'text': '@CAIPRESENTE @Independiente El departamento de Big Data dentro de la Secretaría Técnica debe proveer informes como… https://t.co/6kUwQyjlgq', '_id': ObjectId('5ff79e74a6b23d973f5c6964')}\n",
      "{'created_at': 'Thu Jan 07 23:51:11 +0000 2021', 'id_str': '1347329971262550022', 'text': 'RT @glitchbotio: \"Life is the dancer and you are the dance.\"- Eckhart Tolle  #softwareengineer #javascript #python #C++ #golang #nodejs #re…', '_id': ObjectId('5ff79e74a6b23d973f5c6965')}\n",
      "{'created_at': 'Thu Jan 07 23:51:12 +0000 2021', 'id_str': '1347329972201992193', 'text': 'RT @ComedyMovieLine: Monty Python and the Holy Grail https://t.co/WX0aAR7Kt5', '_id': ObjectId('5ff79e75a6b23d973f5c6966')}\n",
      "{'created_at': 'Thu Jan 07 23:51:14 +0000 2021', 'id_str': '1347329981790130177', 'text': '@rishirdua @signalapp if you use the desktop versions of signal and whatsapp a simple python script should do the trick', '_id': ObjectId('5ff79e77a6b23d973f5c6967')}\n",
      "{'created_at': 'Thu Jan 07 23:51:16 +0000 2021', 'id_str': '1347329989641965570', 'text': 'RT @antgrasso: Data Science claims to represent multiple collaborative disciplines, which have the sole purpose of extracting meanings from…', '_id': ObjectId('5ff79e79a6b23d973f5c6968')}\n",
      "{'created_at': 'Thu Jan 07 23:51:17 +0000 2021', 'id_str': '1347329992833773569', 'text': 'RT @aicanedo: 15 Best Python Interview Questions and Answers https://t.co/oy8htQzbk5 #Python #100DaysOfCode #MachineLearning #programming #…', '_id': ObjectId('5ff79e7aa6b23d973f5c6969')}\n",
      "{'created_at': 'Thu Jan 07 23:51:17 +0000 2021', 'id_str': '1347329992900943879', 'text': 'RT @aicanedo: 15 Best Python Interview Questions and Answers https://t.co/oy8htQzbk5 #Python #100DaysOfCode #MachineLearning #programming #…', '_id': ObjectId('5ff79e7aa6b23d973f5c696a')}\n",
      "{'created_at': 'Thu Jan 07 23:51:17 +0000 2021', 'id_str': '1347329992879976453', 'text': 'RT @FlySpaceships: What are Index Data Structures? 🤔\\n\\n👉https://t.co/19JgRO9XrF\\n\\n#BigData #Analytics #DataScience #IoT #IIoT #Python #RStats…', '_id': ObjectId('5ff79e7aa6b23d973f5c696b')}\n",
      "{'created_at': 'Thu Jan 07 23:51:17 +0000 2021', 'id_str': '1347329992921935874', 'text': 'RT @Deep_In_Depth: Navy scientist develops artificial brain that learns to recognize images fast | TechLink https://t.co/PF31x2oeND #DeepLe…', '_id': ObjectId('5ff79e7aa6b23d973f5c696c')}\n",
      "{'created_at': 'Thu Jan 07 23:51:17 +0000 2021', 'id_str': '1347329993026793475', 'text': 'RT @aicanedo: 15 Best Python Interview Questions and Answers https://t.co/oy8htQzbk5 #Python #100DaysOfCode #MachineLearning #programming #…', '_id': ObjectId('5ff79e7aa6b23d973f5c696d')}\n",
      "{'created_at': 'Thu Jan 07 23:51:17 +0000 2021', 'id_str': '1347329993035165696', 'text': 'RT @FlySpaceships: What are Index Data Structures? 🤔\\n\\n👉https://t.co/19JgRO9XrF\\n\\n#BigData #Analytics #DataScience #IoT #IIoT #Python #RStats…', '_id': ObjectId('5ff79e7aa6b23d973f5c696e')}\n"
     ]
    },
    {
     "name": "stdout",
     "output_type": "stream",
     "text": [
      "{'created_at': 'Thu Jan 07 23:51:18 +0000 2021', 'id_str': '1347329999288868872', 'text': 'RT @MoniLisa2: Cuando la envidia puede contigo y tienes que dejarlo claro públicamente. Ya quisieras tú ser una milésima parte del grandísi…', '_id': ObjectId('5ff79e7ba6b23d973f5c696f')}\n",
      "{'created_at': 'Thu Jan 07 23:51:21 +0000 2021', 'id_str': '1347330010298908675', 'text': 'RT @DadosdeLaplace: Es tal esa falta de cultura de análisis de datos que una tele se permite la poca vergüenza de llevar a un chamán con un…', '_id': ObjectId('5ff79e7ea6b23d973f5c6970')}\n",
      "{'created_at': 'Thu Jan 07 23:51:26 +0000 2021', 'id_str': '1347330032054792195', 'text': '@exehanoi python é tão amorzinho mds', '_id': ObjectId('5ff79e83a6b23d973f5c6971')}\n",
      "{'created_at': 'Thu Jan 07 23:51:29 +0000 2021', 'id_str': '1347330045090656259', 'text': 'RT @RobertKennedyJr: The pandemic handed #Oracle CEO Larry Ellison what he’s wanted for decades — the power to curate the vast datasets hou…', '_id': ObjectId('5ff79e86a6b23d973f5c6972')}\n",
      "{'created_at': 'Thu Jan 07 23:51:32 +0000 2021', 'id_str': '1347330058352881664', 'text': '9時になるからPythonやらなきゃ！\\n\\nバイビー！', '_id': ObjectId('5ff79e89a6b23d973f5c6973')}\n",
      "{'created_at': 'Thu Jan 07 23:51:35 +0000 2021', 'id_str': '1347330068679323648', 'text': 'RT @Goldbarstocks: $BMIX 8k out!! Ceo believe so much getting paid in shares.  #Bullish #update #miner #HUMPDAYD  #investing #silver #MININ…', '_id': ObjectId('5ff79e8ca6b23d973f5c6974')}\n",
      "{'created_at': 'Thu Jan 07 23:51:35 +0000 2021', 'id_str': '1347330069635727361', 'text': \"RT @Jer1dah: Don't sleep on Udemy. There are financial modeling and data science courses for R200.\\n\\nIf you want to study a course on Udemy…\", '_id': ObjectId('5ff79e8ca6b23d973f5c6975')}\n",
      "{'created_at': 'Thu Jan 07 23:51:35 +0000 2021', 'id_str': '1347330069660893192', 'text': 'RT @RobertKennedyJr: The pandemic handed #Oracle CEO Larry Ellison what he’s wanted for decades — the power to curate the vast datasets hou…', '_id': ObjectId('5ff79e8ca6b23d973f5c6976')}\n",
      "{'created_at': 'Thu Jan 07 23:51:35 +0000 2021', 'id_str': '1347330071598661634', 'text': 'RT @CriticalEssay1: HMU for\\n#Statistics\\n#Literature \\n#Nursing\\n#Biology \\n#chemistry \\n#Law \\n#psychology\\n#assignments\\n#homework\\n#essay pay\\n#bu…', '_id': ObjectId('5ff79e8ca6b23d973f5c6977')}\n",
      "{'created_at': 'Thu Jan 07 23:51:37 +0000 2021', 'id_str': '1347330079483973632', 'text': \"RT @LaForge_AI: 4 Ways to Overcome AI Obstacles\\nFour out of five organizations haven't scaled their AI Here are some ways to change that…\", '_id': ObjectId('5ff79e8ea6b23d973f5c6978')}\n",
      "{'created_at': 'Thu Jan 07 23:51:38 +0000 2021', 'id_str': '1347330080628998144', 'text': 'RT @CriticalEssay1: HMU for\\n#Statistics\\n#Literature \\n#Nursing\\n#Biology \\n#chemistry \\n#Law \\n#psychology\\n#assignments\\n#homework\\n#essay pay\\n#bu…', '_id': ObjectId('5ff79e8fa6b23d973f5c6979')}\n",
      "{'created_at': 'Thu Jan 07 23:51:40 +0000 2021', 'id_str': '1347330089818742789', 'text': 'RT @ComedyMovieLine: Monty Python and the Holy Grail https://t.co/YNaCMA54FE', '_id': ObjectId('5ff79e91a6b23d973f5c697a')}\n"
     ]
    },
    {
     "ename": "KeyboardInterrupt",
     "evalue": "",
     "output_type": "error",
     "traceback": [
      "\u001b[1;31m---------------------------------------------------------------------------\u001b[0m",
      "\u001b[1;31mKeyboardInterrupt\u001b[0m                         Traceback (most recent call last)",
      "\u001b[1;32m<ipython-input-67-6a9070444200>\u001b[0m in \u001b[0;36m<module>\u001b[1;34m\u001b[0m\n\u001b[0;32m      1\u001b[0m \u001b[1;31m# Iniciando o filtro e gravando os tweets no MongoDB\u001b[0m\u001b[1;33m\u001b[0m\u001b[1;33m\u001b[0m\u001b[1;33m\u001b[0m\u001b[0m\n\u001b[1;32m----> 2\u001b[1;33m \u001b[0mmystream\u001b[0m\u001b[1;33m.\u001b[0m\u001b[0mfilter\u001b[0m\u001b[1;33m(\u001b[0m\u001b[0mtrack\u001b[0m\u001b[1;33m=\u001b[0m\u001b[0mkeywords\u001b[0m\u001b[1;33m)\u001b[0m\u001b[1;33m\u001b[0m\u001b[1;33m\u001b[0m\u001b[0m\n\u001b[0m",
      "\u001b[1;32mC:\\anaconda3\\lib\\site-packages\\tweepy\\streaming.py\u001b[0m in \u001b[0;36mfilter\u001b[1;34m(self, follow, track, is_async, locations, stall_warnings, languages, encoding, filter_level)\u001b[0m\n\u001b[0;32m    472\u001b[0m             \u001b[0mself\u001b[0m\u001b[1;33m.\u001b[0m\u001b[0mbody\u001b[0m\u001b[1;33m[\u001b[0m\u001b[1;34m'filter_level'\u001b[0m\u001b[1;33m]\u001b[0m \u001b[1;33m=\u001b[0m \u001b[0mfilter_level\u001b[0m\u001b[1;33m.\u001b[0m\u001b[0mencode\u001b[0m\u001b[1;33m(\u001b[0m\u001b[0mencoding\u001b[0m\u001b[1;33m)\u001b[0m\u001b[1;33m\u001b[0m\u001b[1;33m\u001b[0m\u001b[0m\n\u001b[0;32m    473\u001b[0m         \u001b[0mself\u001b[0m\u001b[1;33m.\u001b[0m\u001b[0msession\u001b[0m\u001b[1;33m.\u001b[0m\u001b[0mparams\u001b[0m \u001b[1;33m=\u001b[0m \u001b[1;33m{\u001b[0m\u001b[1;34m'delimited'\u001b[0m\u001b[1;33m:\u001b[0m \u001b[1;34m'length'\u001b[0m\u001b[1;33m}\u001b[0m\u001b[1;33m\u001b[0m\u001b[1;33m\u001b[0m\u001b[0m\n\u001b[1;32m--> 474\u001b[1;33m         \u001b[0mself\u001b[0m\u001b[1;33m.\u001b[0m\u001b[0m_start\u001b[0m\u001b[1;33m(\u001b[0m\u001b[0mis_async\u001b[0m\u001b[1;33m)\u001b[0m\u001b[1;33m\u001b[0m\u001b[1;33m\u001b[0m\u001b[0m\n\u001b[0m\u001b[0;32m    475\u001b[0m \u001b[1;33m\u001b[0m\u001b[0m\n\u001b[0;32m    476\u001b[0m     def sitestream(self, follow, stall_warnings=False,\n",
      "\u001b[1;32mC:\\anaconda3\\lib\\site-packages\\tweepy\\streaming.py\u001b[0m in \u001b[0;36m_start\u001b[1;34m(self, is_async)\u001b[0m\n\u001b[0;32m    387\u001b[0m             \u001b[0mself\u001b[0m\u001b[1;33m.\u001b[0m\u001b[0m_thread\u001b[0m\u001b[1;33m.\u001b[0m\u001b[0mstart\u001b[0m\u001b[1;33m(\u001b[0m\u001b[1;33m)\u001b[0m\u001b[1;33m\u001b[0m\u001b[1;33m\u001b[0m\u001b[0m\n\u001b[0;32m    388\u001b[0m         \u001b[1;32melse\u001b[0m\u001b[1;33m:\u001b[0m\u001b[1;33m\u001b[0m\u001b[1;33m\u001b[0m\u001b[0m\n\u001b[1;32m--> 389\u001b[1;33m             \u001b[0mself\u001b[0m\u001b[1;33m.\u001b[0m\u001b[0m_run\u001b[0m\u001b[1;33m(\u001b[0m\u001b[1;33m)\u001b[0m\u001b[1;33m\u001b[0m\u001b[1;33m\u001b[0m\u001b[0m\n\u001b[0m\u001b[0;32m    390\u001b[0m \u001b[1;33m\u001b[0m\u001b[0m\n\u001b[0;32m    391\u001b[0m     \u001b[1;32mdef\u001b[0m \u001b[0mon_closed\u001b[0m\u001b[1;33m(\u001b[0m\u001b[0mself\u001b[0m\u001b[1;33m,\u001b[0m \u001b[0mresp\u001b[0m\u001b[1;33m)\u001b[0m\u001b[1;33m:\u001b[0m\u001b[1;33m\u001b[0m\u001b[1;33m\u001b[0m\u001b[0m\n",
      "\u001b[1;32mC:\\anaconda3\\lib\\site-packages\\tweepy\\streaming.py\u001b[0m in \u001b[0;36m_run\u001b[1;34m(self)\u001b[0m\n\u001b[0;32m    287\u001b[0m                     \u001b[0mself\u001b[0m\u001b[1;33m.\u001b[0m\u001b[0msnooze_time\u001b[0m \u001b[1;33m=\u001b[0m \u001b[0mself\u001b[0m\u001b[1;33m.\u001b[0m\u001b[0msnooze_time_step\u001b[0m\u001b[1;33m\u001b[0m\u001b[1;33m\u001b[0m\u001b[0m\n\u001b[0;32m    288\u001b[0m                     \u001b[0mself\u001b[0m\u001b[1;33m.\u001b[0m\u001b[0mlistener\u001b[0m\u001b[1;33m.\u001b[0m\u001b[0mon_connect\u001b[0m\u001b[1;33m(\u001b[0m\u001b[1;33m)\u001b[0m\u001b[1;33m\u001b[0m\u001b[1;33m\u001b[0m\u001b[0m\n\u001b[1;32m--> 289\u001b[1;33m                     \u001b[0mself\u001b[0m\u001b[1;33m.\u001b[0m\u001b[0m_read_loop\u001b[0m\u001b[1;33m(\u001b[0m\u001b[0mresp\u001b[0m\u001b[1;33m)\u001b[0m\u001b[1;33m\u001b[0m\u001b[1;33m\u001b[0m\u001b[0m\n\u001b[0m\u001b[0;32m    290\u001b[0m             \u001b[1;32mexcept\u001b[0m \u001b[1;33m(\u001b[0m\u001b[0mTimeout\u001b[0m\u001b[1;33m,\u001b[0m \u001b[0mssl\u001b[0m\u001b[1;33m.\u001b[0m\u001b[0mSSLError\u001b[0m\u001b[1;33m)\u001b[0m \u001b[1;32mas\u001b[0m \u001b[0mexc\u001b[0m\u001b[1;33m:\u001b[0m\u001b[1;33m\u001b[0m\u001b[1;33m\u001b[0m\u001b[0m\n\u001b[0;32m    291\u001b[0m                 \u001b[1;31m# This is still necessary, as a SSLError can actually be\u001b[0m\u001b[1;33m\u001b[0m\u001b[1;33m\u001b[0m\u001b[1;33m\u001b[0m\u001b[0m\n",
      "\u001b[1;32mC:\\anaconda3\\lib\\site-packages\\tweepy\\streaming.py\u001b[0m in \u001b[0;36m_read_loop\u001b[1;34m(self, resp)\u001b[0m\n\u001b[0;32m    337\u001b[0m             \u001b[0mlength\u001b[0m \u001b[1;33m=\u001b[0m \u001b[1;36m0\u001b[0m\u001b[1;33m\u001b[0m\u001b[1;33m\u001b[0m\u001b[0m\n\u001b[0;32m    338\u001b[0m             \u001b[1;32mwhile\u001b[0m \u001b[1;32mnot\u001b[0m \u001b[0mresp\u001b[0m\u001b[1;33m.\u001b[0m\u001b[0mraw\u001b[0m\u001b[1;33m.\u001b[0m\u001b[0mclosed\u001b[0m\u001b[1;33m:\u001b[0m\u001b[1;33m\u001b[0m\u001b[1;33m\u001b[0m\u001b[0m\n\u001b[1;32m--> 339\u001b[1;33m                 \u001b[0mline\u001b[0m \u001b[1;33m=\u001b[0m \u001b[0mbuf\u001b[0m\u001b[1;33m.\u001b[0m\u001b[0mread_line\u001b[0m\u001b[1;33m(\u001b[0m\u001b[1;33m)\u001b[0m\u001b[1;33m\u001b[0m\u001b[1;33m\u001b[0m\u001b[0m\n\u001b[0m\u001b[0;32m    340\u001b[0m                 \u001b[0mstripped_line\u001b[0m \u001b[1;33m=\u001b[0m \u001b[0mline\u001b[0m\u001b[1;33m.\u001b[0m\u001b[0mstrip\u001b[0m\u001b[1;33m(\u001b[0m\u001b[1;33m)\u001b[0m \u001b[1;32mif\u001b[0m \u001b[0mline\u001b[0m \u001b[1;32melse\u001b[0m \u001b[0mline\u001b[0m \u001b[1;31m# line is sometimes None so we need to check here\u001b[0m\u001b[1;33m\u001b[0m\u001b[1;33m\u001b[0m\u001b[0m\n\u001b[0;32m    341\u001b[0m                 \u001b[1;32mif\u001b[0m \u001b[1;32mnot\u001b[0m \u001b[0mstripped_line\u001b[0m\u001b[1;33m:\u001b[0m\u001b[1;33m\u001b[0m\u001b[1;33m\u001b[0m\u001b[0m\n",
      "\u001b[1;32mC:\\anaconda3\\lib\\site-packages\\tweepy\\streaming.py\u001b[0m in \u001b[0;36mread_line\u001b[1;34m(self, sep)\u001b[0m\n\u001b[0;32m    198\u001b[0m             \u001b[1;32melse\u001b[0m\u001b[1;33m:\u001b[0m\u001b[1;33m\u001b[0m\u001b[1;33m\u001b[0m\u001b[0m\n\u001b[0;32m    199\u001b[0m                 \u001b[0mstart\u001b[0m \u001b[1;33m=\u001b[0m \u001b[0mlen\u001b[0m\u001b[1;33m(\u001b[0m\u001b[0mself\u001b[0m\u001b[1;33m.\u001b[0m\u001b[0m_buffer\u001b[0m\u001b[1;33m)\u001b[0m\u001b[1;33m\u001b[0m\u001b[1;33m\u001b[0m\u001b[0m\n\u001b[1;32m--> 200\u001b[1;33m             \u001b[0mself\u001b[0m\u001b[1;33m.\u001b[0m\u001b[0m_buffer\u001b[0m \u001b[1;33m+=\u001b[0m \u001b[0mself\u001b[0m\u001b[1;33m.\u001b[0m\u001b[0m_stream\u001b[0m\u001b[1;33m.\u001b[0m\u001b[0mread\u001b[0m\u001b[1;33m(\u001b[0m\u001b[0mself\u001b[0m\u001b[1;33m.\u001b[0m\u001b[0m_chunk_size\u001b[0m\u001b[1;33m)\u001b[0m\u001b[1;33m\u001b[0m\u001b[1;33m\u001b[0m\u001b[0m\n\u001b[0m\u001b[0;32m    201\u001b[0m         \u001b[1;32mreturn\u001b[0m \u001b[0msix\u001b[0m\u001b[1;33m.\u001b[0m\u001b[0mb\u001b[0m\u001b[1;33m(\u001b[0m\u001b[1;34m''\u001b[0m\u001b[1;33m)\u001b[0m\u001b[1;33m\u001b[0m\u001b[1;33m\u001b[0m\u001b[0m\n\u001b[0;32m    202\u001b[0m \u001b[1;33m\u001b[0m\u001b[0m\n",
      "\u001b[1;32mC:\\anaconda3\\lib\\site-packages\\urllib3\\response.py\u001b[0m in \u001b[0;36mread\u001b[1;34m(self, amt, decode_content, cache_content)\u001b[0m\n\u001b[0;32m    517\u001b[0m             \u001b[1;32melse\u001b[0m\u001b[1;33m:\u001b[0m\u001b[1;33m\u001b[0m\u001b[1;33m\u001b[0m\u001b[0m\n\u001b[0;32m    518\u001b[0m                 \u001b[0mcache_content\u001b[0m \u001b[1;33m=\u001b[0m \u001b[1;32mFalse\u001b[0m\u001b[1;33m\u001b[0m\u001b[1;33m\u001b[0m\u001b[0m\n\u001b[1;32m--> 519\u001b[1;33m                 \u001b[0mdata\u001b[0m \u001b[1;33m=\u001b[0m \u001b[0mself\u001b[0m\u001b[1;33m.\u001b[0m\u001b[0m_fp\u001b[0m\u001b[1;33m.\u001b[0m\u001b[0mread\u001b[0m\u001b[1;33m(\u001b[0m\u001b[0mamt\u001b[0m\u001b[1;33m)\u001b[0m \u001b[1;32mif\u001b[0m \u001b[1;32mnot\u001b[0m \u001b[0mfp_closed\u001b[0m \u001b[1;32melse\u001b[0m \u001b[1;34mb\"\"\u001b[0m\u001b[1;33m\u001b[0m\u001b[1;33m\u001b[0m\u001b[0m\n\u001b[0m\u001b[0;32m    520\u001b[0m                 if (\n\u001b[0;32m    521\u001b[0m                     \u001b[0mamt\u001b[0m \u001b[1;33m!=\u001b[0m \u001b[1;36m0\u001b[0m \u001b[1;32mand\u001b[0m \u001b[1;32mnot\u001b[0m \u001b[0mdata\u001b[0m\u001b[1;33m\u001b[0m\u001b[1;33m\u001b[0m\u001b[0m\n",
      "\u001b[1;32mC:\\anaconda3\\lib\\http\\client.py\u001b[0m in \u001b[0;36mread\u001b[1;34m(self, amt)\u001b[0m\n\u001b[0;32m    452\u001b[0m             \u001b[1;31m# Amount is given, implement using readinto\u001b[0m\u001b[1;33m\u001b[0m\u001b[1;33m\u001b[0m\u001b[1;33m\u001b[0m\u001b[0m\n\u001b[0;32m    453\u001b[0m             \u001b[0mb\u001b[0m \u001b[1;33m=\u001b[0m \u001b[0mbytearray\u001b[0m\u001b[1;33m(\u001b[0m\u001b[0mamt\u001b[0m\u001b[1;33m)\u001b[0m\u001b[1;33m\u001b[0m\u001b[1;33m\u001b[0m\u001b[0m\n\u001b[1;32m--> 454\u001b[1;33m             \u001b[0mn\u001b[0m \u001b[1;33m=\u001b[0m \u001b[0mself\u001b[0m\u001b[1;33m.\u001b[0m\u001b[0mreadinto\u001b[0m\u001b[1;33m(\u001b[0m\u001b[0mb\u001b[0m\u001b[1;33m)\u001b[0m\u001b[1;33m\u001b[0m\u001b[1;33m\u001b[0m\u001b[0m\n\u001b[0m\u001b[0;32m    455\u001b[0m             \u001b[1;32mreturn\u001b[0m \u001b[0mmemoryview\u001b[0m\u001b[1;33m(\u001b[0m\u001b[0mb\u001b[0m\u001b[1;33m)\u001b[0m\u001b[1;33m[\u001b[0m\u001b[1;33m:\u001b[0m\u001b[0mn\u001b[0m\u001b[1;33m]\u001b[0m\u001b[1;33m.\u001b[0m\u001b[0mtobytes\u001b[0m\u001b[1;33m(\u001b[0m\u001b[1;33m)\u001b[0m\u001b[1;33m\u001b[0m\u001b[1;33m\u001b[0m\u001b[0m\n\u001b[0;32m    456\u001b[0m         \u001b[1;32melse\u001b[0m\u001b[1;33m:\u001b[0m\u001b[1;33m\u001b[0m\u001b[1;33m\u001b[0m\u001b[0m\n",
      "\u001b[1;32mC:\\anaconda3\\lib\\http\\client.py\u001b[0m in \u001b[0;36mreadinto\u001b[1;34m(self, b)\u001b[0m\n\u001b[0;32m    486\u001b[0m \u001b[1;33m\u001b[0m\u001b[0m\n\u001b[0;32m    487\u001b[0m         \u001b[1;32mif\u001b[0m \u001b[0mself\u001b[0m\u001b[1;33m.\u001b[0m\u001b[0mchunked\u001b[0m\u001b[1;33m:\u001b[0m\u001b[1;33m\u001b[0m\u001b[1;33m\u001b[0m\u001b[0m\n\u001b[1;32m--> 488\u001b[1;33m             \u001b[1;32mreturn\u001b[0m \u001b[0mself\u001b[0m\u001b[1;33m.\u001b[0m\u001b[0m_readinto_chunked\u001b[0m\u001b[1;33m(\u001b[0m\u001b[0mb\u001b[0m\u001b[1;33m)\u001b[0m\u001b[1;33m\u001b[0m\u001b[1;33m\u001b[0m\u001b[0m\n\u001b[0m\u001b[0;32m    489\u001b[0m \u001b[1;33m\u001b[0m\u001b[0m\n\u001b[0;32m    490\u001b[0m         \u001b[1;32mif\u001b[0m \u001b[0mself\u001b[0m\u001b[1;33m.\u001b[0m\u001b[0mlength\u001b[0m \u001b[1;32mis\u001b[0m \u001b[1;32mnot\u001b[0m \u001b[1;32mNone\u001b[0m\u001b[1;33m:\u001b[0m\u001b[1;33m\u001b[0m\u001b[1;33m\u001b[0m\u001b[0m\n",
      "\u001b[1;32mC:\\anaconda3\\lib\\http\\client.py\u001b[0m in \u001b[0;36m_readinto_chunked\u001b[1;34m(self, b)\u001b[0m\n\u001b[0;32m    581\u001b[0m         \u001b[1;32mtry\u001b[0m\u001b[1;33m:\u001b[0m\u001b[1;33m\u001b[0m\u001b[1;33m\u001b[0m\u001b[0m\n\u001b[0;32m    582\u001b[0m             \u001b[1;32mwhile\u001b[0m \u001b[1;32mTrue\u001b[0m\u001b[1;33m:\u001b[0m\u001b[1;33m\u001b[0m\u001b[1;33m\u001b[0m\u001b[0m\n\u001b[1;32m--> 583\u001b[1;33m                 \u001b[0mchunk_left\u001b[0m \u001b[1;33m=\u001b[0m \u001b[0mself\u001b[0m\u001b[1;33m.\u001b[0m\u001b[0m_get_chunk_left\u001b[0m\u001b[1;33m(\u001b[0m\u001b[1;33m)\u001b[0m\u001b[1;33m\u001b[0m\u001b[1;33m\u001b[0m\u001b[0m\n\u001b[0m\u001b[0;32m    584\u001b[0m                 \u001b[1;32mif\u001b[0m \u001b[0mchunk_left\u001b[0m \u001b[1;32mis\u001b[0m \u001b[1;32mNone\u001b[0m\u001b[1;33m:\u001b[0m\u001b[1;33m\u001b[0m\u001b[1;33m\u001b[0m\u001b[0m\n\u001b[0;32m    585\u001b[0m                     \u001b[1;32mreturn\u001b[0m \u001b[0mtotal_bytes\u001b[0m\u001b[1;33m\u001b[0m\u001b[1;33m\u001b[0m\u001b[0m\n",
      "\u001b[1;32mC:\\anaconda3\\lib\\http\\client.py\u001b[0m in \u001b[0;36m_get_chunk_left\u001b[1;34m(self)\u001b[0m\n\u001b[0;32m    549\u001b[0m                 \u001b[0mself\u001b[0m\u001b[1;33m.\u001b[0m\u001b[0m_safe_read\u001b[0m\u001b[1;33m(\u001b[0m\u001b[1;36m2\u001b[0m\u001b[1;33m)\u001b[0m  \u001b[1;31m# toss the CRLF at the end of the chunk\u001b[0m\u001b[1;33m\u001b[0m\u001b[1;33m\u001b[0m\u001b[0m\n\u001b[0;32m    550\u001b[0m             \u001b[1;32mtry\u001b[0m\u001b[1;33m:\u001b[0m\u001b[1;33m\u001b[0m\u001b[1;33m\u001b[0m\u001b[0m\n\u001b[1;32m--> 551\u001b[1;33m                 \u001b[0mchunk_left\u001b[0m \u001b[1;33m=\u001b[0m \u001b[0mself\u001b[0m\u001b[1;33m.\u001b[0m\u001b[0m_read_next_chunk_size\u001b[0m\u001b[1;33m(\u001b[0m\u001b[1;33m)\u001b[0m\u001b[1;33m\u001b[0m\u001b[1;33m\u001b[0m\u001b[0m\n\u001b[0m\u001b[0;32m    552\u001b[0m             \u001b[1;32mexcept\u001b[0m \u001b[0mValueError\u001b[0m\u001b[1;33m:\u001b[0m\u001b[1;33m\u001b[0m\u001b[1;33m\u001b[0m\u001b[0m\n\u001b[0;32m    553\u001b[0m                 \u001b[1;32mraise\u001b[0m \u001b[0mIncompleteRead\u001b[0m\u001b[1;33m(\u001b[0m\u001b[1;34mb''\u001b[0m\u001b[1;33m)\u001b[0m\u001b[1;33m\u001b[0m\u001b[1;33m\u001b[0m\u001b[0m\n",
      "\u001b[1;32mC:\\anaconda3\\lib\\http\\client.py\u001b[0m in \u001b[0;36m_read_next_chunk_size\u001b[1;34m(self)\u001b[0m\n\u001b[0;32m    509\u001b[0m     \u001b[1;32mdef\u001b[0m \u001b[0m_read_next_chunk_size\u001b[0m\u001b[1;33m(\u001b[0m\u001b[0mself\u001b[0m\u001b[1;33m)\u001b[0m\u001b[1;33m:\u001b[0m\u001b[1;33m\u001b[0m\u001b[1;33m\u001b[0m\u001b[0m\n\u001b[0;32m    510\u001b[0m         \u001b[1;31m# Read the next chunk size from the file\u001b[0m\u001b[1;33m\u001b[0m\u001b[1;33m\u001b[0m\u001b[1;33m\u001b[0m\u001b[0m\n\u001b[1;32m--> 511\u001b[1;33m         \u001b[0mline\u001b[0m \u001b[1;33m=\u001b[0m \u001b[0mself\u001b[0m\u001b[1;33m.\u001b[0m\u001b[0mfp\u001b[0m\u001b[1;33m.\u001b[0m\u001b[0mreadline\u001b[0m\u001b[1;33m(\u001b[0m\u001b[0m_MAXLINE\u001b[0m \u001b[1;33m+\u001b[0m \u001b[1;36m1\u001b[0m\u001b[1;33m)\u001b[0m\u001b[1;33m\u001b[0m\u001b[1;33m\u001b[0m\u001b[0m\n\u001b[0m\u001b[0;32m    512\u001b[0m         \u001b[1;32mif\u001b[0m \u001b[0mlen\u001b[0m\u001b[1;33m(\u001b[0m\u001b[0mline\u001b[0m\u001b[1;33m)\u001b[0m \u001b[1;33m>\u001b[0m \u001b[0m_MAXLINE\u001b[0m\u001b[1;33m:\u001b[0m\u001b[1;33m\u001b[0m\u001b[1;33m\u001b[0m\u001b[0m\n\u001b[0;32m    513\u001b[0m             \u001b[1;32mraise\u001b[0m \u001b[0mLineTooLong\u001b[0m\u001b[1;33m(\u001b[0m\u001b[1;34m\"chunk size\"\u001b[0m\u001b[1;33m)\u001b[0m\u001b[1;33m\u001b[0m\u001b[1;33m\u001b[0m\u001b[0m\n",
      "\u001b[1;32mC:\\anaconda3\\lib\\socket.py\u001b[0m in \u001b[0;36mreadinto\u001b[1;34m(self, b)\u001b[0m\n\u001b[0;32m    667\u001b[0m         \u001b[1;32mwhile\u001b[0m \u001b[1;32mTrue\u001b[0m\u001b[1;33m:\u001b[0m\u001b[1;33m\u001b[0m\u001b[1;33m\u001b[0m\u001b[0m\n\u001b[0;32m    668\u001b[0m             \u001b[1;32mtry\u001b[0m\u001b[1;33m:\u001b[0m\u001b[1;33m\u001b[0m\u001b[1;33m\u001b[0m\u001b[0m\n\u001b[1;32m--> 669\u001b[1;33m                 \u001b[1;32mreturn\u001b[0m \u001b[0mself\u001b[0m\u001b[1;33m.\u001b[0m\u001b[0m_sock\u001b[0m\u001b[1;33m.\u001b[0m\u001b[0mrecv_into\u001b[0m\u001b[1;33m(\u001b[0m\u001b[0mb\u001b[0m\u001b[1;33m)\u001b[0m\u001b[1;33m\u001b[0m\u001b[1;33m\u001b[0m\u001b[0m\n\u001b[0m\u001b[0;32m    670\u001b[0m             \u001b[1;32mexcept\u001b[0m \u001b[0mtimeout\u001b[0m\u001b[1;33m:\u001b[0m\u001b[1;33m\u001b[0m\u001b[1;33m\u001b[0m\u001b[0m\n\u001b[0;32m    671\u001b[0m                 \u001b[0mself\u001b[0m\u001b[1;33m.\u001b[0m\u001b[0m_timeout_occurred\u001b[0m \u001b[1;33m=\u001b[0m \u001b[1;32mTrue\u001b[0m\u001b[1;33m\u001b[0m\u001b[1;33m\u001b[0m\u001b[0m\n",
      "\u001b[1;32mC:\\anaconda3\\lib\\ssl.py\u001b[0m in \u001b[0;36mrecv_into\u001b[1;34m(self, buffer, nbytes, flags)\u001b[0m\n\u001b[0;32m   1239\u001b[0m                   \u001b[1;34m\"non-zero flags not allowed in calls to recv_into() on %s\"\u001b[0m \u001b[1;33m%\u001b[0m\u001b[1;33m\u001b[0m\u001b[1;33m\u001b[0m\u001b[0m\n\u001b[0;32m   1240\u001b[0m                   self.__class__)\n\u001b[1;32m-> 1241\u001b[1;33m             \u001b[1;32mreturn\u001b[0m \u001b[0mself\u001b[0m\u001b[1;33m.\u001b[0m\u001b[0mread\u001b[0m\u001b[1;33m(\u001b[0m\u001b[0mnbytes\u001b[0m\u001b[1;33m,\u001b[0m \u001b[0mbuffer\u001b[0m\u001b[1;33m)\u001b[0m\u001b[1;33m\u001b[0m\u001b[1;33m\u001b[0m\u001b[0m\n\u001b[0m\u001b[0;32m   1242\u001b[0m         \u001b[1;32melse\u001b[0m\u001b[1;33m:\u001b[0m\u001b[1;33m\u001b[0m\u001b[1;33m\u001b[0m\u001b[0m\n\u001b[0;32m   1243\u001b[0m             \u001b[1;32mreturn\u001b[0m \u001b[0msuper\u001b[0m\u001b[1;33m(\u001b[0m\u001b[1;33m)\u001b[0m\u001b[1;33m.\u001b[0m\u001b[0mrecv_into\u001b[0m\u001b[1;33m(\u001b[0m\u001b[0mbuffer\u001b[0m\u001b[1;33m,\u001b[0m \u001b[0mnbytes\u001b[0m\u001b[1;33m,\u001b[0m \u001b[0mflags\u001b[0m\u001b[1;33m)\u001b[0m\u001b[1;33m\u001b[0m\u001b[1;33m\u001b[0m\u001b[0m\n",
      "\u001b[1;32mC:\\anaconda3\\lib\\ssl.py\u001b[0m in \u001b[0;36mread\u001b[1;34m(self, len, buffer)\u001b[0m\n\u001b[0;32m   1097\u001b[0m         \u001b[1;32mtry\u001b[0m\u001b[1;33m:\u001b[0m\u001b[1;33m\u001b[0m\u001b[1;33m\u001b[0m\u001b[0m\n\u001b[0;32m   1098\u001b[0m             \u001b[1;32mif\u001b[0m \u001b[0mbuffer\u001b[0m \u001b[1;32mis\u001b[0m \u001b[1;32mnot\u001b[0m \u001b[1;32mNone\u001b[0m\u001b[1;33m:\u001b[0m\u001b[1;33m\u001b[0m\u001b[1;33m\u001b[0m\u001b[0m\n\u001b[1;32m-> 1099\u001b[1;33m                 \u001b[1;32mreturn\u001b[0m \u001b[0mself\u001b[0m\u001b[1;33m.\u001b[0m\u001b[0m_sslobj\u001b[0m\u001b[1;33m.\u001b[0m\u001b[0mread\u001b[0m\u001b[1;33m(\u001b[0m\u001b[0mlen\u001b[0m\u001b[1;33m,\u001b[0m \u001b[0mbuffer\u001b[0m\u001b[1;33m)\u001b[0m\u001b[1;33m\u001b[0m\u001b[1;33m\u001b[0m\u001b[0m\n\u001b[0m\u001b[0;32m   1100\u001b[0m             \u001b[1;32melse\u001b[0m\u001b[1;33m:\u001b[0m\u001b[1;33m\u001b[0m\u001b[1;33m\u001b[0m\u001b[0m\n\u001b[0;32m   1101\u001b[0m                 \u001b[1;32mreturn\u001b[0m \u001b[0mself\u001b[0m\u001b[1;33m.\u001b[0m\u001b[0m_sslobj\u001b[0m\u001b[1;33m.\u001b[0m\u001b[0mread\u001b[0m\u001b[1;33m(\u001b[0m\u001b[0mlen\u001b[0m\u001b[1;33m)\u001b[0m\u001b[1;33m\u001b[0m\u001b[1;33m\u001b[0m\u001b[0m\n",
      "\u001b[1;31mKeyboardInterrupt\u001b[0m: "
     ]
    }
   ],
   "source": [
    "# Iniciando o filtro e gravando os tweets no MongoDB\n",
    "mystream.filter(track=keywords)"
   ]
  },
  {
   "cell_type": "markdown",
   "metadata": {},
   "source": [
    "## --> Pressione o botão Stop na barra de ferramentas para encerrar a captura dos Tweets"
   ]
  },
  {
   "cell_type": "markdown",
   "metadata": {},
   "source": [
    "## Consultando os Dados no MongoDB"
   ]
  },
  {
   "cell_type": "code",
   "execution_count": 69,
   "metadata": {},
   "outputs": [],
   "source": [
    "##encerrando a conexão \n",
    "mystream.disconnect()"
   ]
  },
  {
   "cell_type": "code",
   "execution_count": 70,
   "metadata": {},
   "outputs": [
    {
     "data": {
      "text/plain": [
       "{'_id': ObjectId('5ff79e0ba6b23d973f5c68f4'),\n",
       " 'created_at': 'Thu Jan 07 23:49:26 +0000 2021',\n",
       " 'id_str': '1347329527769403394',\n",
       " 'text': 'I just entered to win a Sig Sauer MPX Copperhead &amp; Colt Python Revolver from @ClassicFirearm! Valued At $3500!… https://t.co/5XeaobjMN5'}"
      ]
     },
     "execution_count": 70,
     "metadata": {},
     "output_type": "execute_result"
    }
   ],
   "source": [
    "# Verificando um documento no collection\n",
    "col.find_one()"
   ]
  },
  {
   "cell_type": "markdown",
   "metadata": {},
   "source": [
    "## Análise de Dados com Pandas e Scikit-Learn"
   ]
  },
  {
   "cell_type": "code",
   "execution_count": 71,
   "metadata": {},
   "outputs": [],
   "source": [
    "# criando um dataset com dados retornados do MongoDB\n",
    "dataset = [{\"created_at\": item[\"created_at\"], \"text\": item[\"text\"],} for item in col.find()]"
   ]
  },
  {
   "cell_type": "code",
   "execution_count": 72,
   "metadata": {},
   "outputs": [
    {
     "data": {
      "text/plain": [
       "'1.0.5'"
      ]
     },
     "execution_count": 72,
     "metadata": {},
     "output_type": "execute_result"
    }
   ],
   "source": [
    "# Importando o módulo Pandas para trabalhar com datasets em Python\n",
    "import pandas as pd\n",
    "pd.__version__"
   ]
  },
  {
   "cell_type": "code",
   "execution_count": 73,
   "metadata": {},
   "outputs": [],
   "source": [
    "# Criando um dataframe a partir do dataset \n",
    "df = pd.DataFrame(dataset)"
   ]
  },
  {
   "cell_type": "code",
   "execution_count": 74,
   "metadata": {},
   "outputs": [
    {
     "data": {
      "text/html": [
       "<div>\n",
       "<style scoped>\n",
       "    .dataframe tbody tr th:only-of-type {\n",
       "        vertical-align: middle;\n",
       "    }\n",
       "\n",
       "    .dataframe tbody tr th {\n",
       "        vertical-align: top;\n",
       "    }\n",
       "\n",
       "    .dataframe thead th {\n",
       "        text-align: right;\n",
       "    }\n",
       "</style>\n",
       "<table border=\"1\" class=\"dataframe\">\n",
       "  <thead>\n",
       "    <tr style=\"text-align: right;\">\n",
       "      <th></th>\n",
       "      <th>created_at</th>\n",
       "      <th>text</th>\n",
       "    </tr>\n",
       "  </thead>\n",
       "  <tbody>\n",
       "    <tr>\n",
       "      <th>0</th>\n",
       "      <td>Thu Jan 07 23:49:26 +0000 2021</td>\n",
       "      <td>I just entered to win a Sig Sauer MPX Copperhe...</td>\n",
       "    </tr>\n",
       "    <tr>\n",
       "      <th>1</th>\n",
       "      <td>Thu Jan 07 23:49:27 +0000 2021</td>\n",
       "      <td>I just entered to win a Sig Sauer MPX Copperhe...</td>\n",
       "    </tr>\n",
       "    <tr>\n",
       "      <th>2</th>\n",
       "      <td>Thu Jan 07 23:49:29 +0000 2021</td>\n",
       "      <td>RT @BrianTh37895972: Expect to see a lot more ...</td>\n",
       "    </tr>\n",
       "    <tr>\n",
       "      <th>3</th>\n",
       "      <td>Thu Jan 07 23:49:30 +0000 2021</td>\n",
       "      <td>Download Mobi Python Web Scraping Cookbook: Ov...</td>\n",
       "    </tr>\n",
       "    <tr>\n",
       "      <th>4</th>\n",
       "      <td>Thu Jan 07 23:49:31 +0000 2021</td>\n",
       "      <td>RT @MrBriit: Special Udemy DISCOUNT Today: htt...</td>\n",
       "    </tr>\n",
       "    <tr>\n",
       "      <th>...</th>\n",
       "      <td>...</td>\n",
       "      <td>...</td>\n",
       "    </tr>\n",
       "    <tr>\n",
       "      <th>130</th>\n",
       "      <td>Thu Jan 07 23:51:35 +0000 2021</td>\n",
       "      <td>RT @RobertKennedyJr: The pandemic handed #Orac...</td>\n",
       "    </tr>\n",
       "    <tr>\n",
       "      <th>131</th>\n",
       "      <td>Thu Jan 07 23:51:35 +0000 2021</td>\n",
       "      <td>RT @CriticalEssay1: HMU for\\n#Statistics\\n#Lit...</td>\n",
       "    </tr>\n",
       "    <tr>\n",
       "      <th>132</th>\n",
       "      <td>Thu Jan 07 23:51:37 +0000 2021</td>\n",
       "      <td>RT @LaForge_AI: 4 Ways to Overcome AI Obstacle...</td>\n",
       "    </tr>\n",
       "    <tr>\n",
       "      <th>133</th>\n",
       "      <td>Thu Jan 07 23:51:38 +0000 2021</td>\n",
       "      <td>RT @CriticalEssay1: HMU for\\n#Statistics\\n#Lit...</td>\n",
       "    </tr>\n",
       "    <tr>\n",
       "      <th>134</th>\n",
       "      <td>Thu Jan 07 23:51:40 +0000 2021</td>\n",
       "      <td>RT @ComedyMovieLine: Monty Python and the Holy...</td>\n",
       "    </tr>\n",
       "  </tbody>\n",
       "</table>\n",
       "<p>135 rows × 2 columns</p>\n",
       "</div>"
      ],
      "text/plain": [
       "                         created_at  \\\n",
       "0    Thu Jan 07 23:49:26 +0000 2021   \n",
       "1    Thu Jan 07 23:49:27 +0000 2021   \n",
       "2    Thu Jan 07 23:49:29 +0000 2021   \n",
       "3    Thu Jan 07 23:49:30 +0000 2021   \n",
       "4    Thu Jan 07 23:49:31 +0000 2021   \n",
       "..                              ...   \n",
       "130  Thu Jan 07 23:51:35 +0000 2021   \n",
       "131  Thu Jan 07 23:51:35 +0000 2021   \n",
       "132  Thu Jan 07 23:51:37 +0000 2021   \n",
       "133  Thu Jan 07 23:51:38 +0000 2021   \n",
       "134  Thu Jan 07 23:51:40 +0000 2021   \n",
       "\n",
       "                                                  text  \n",
       "0    I just entered to win a Sig Sauer MPX Copperhe...  \n",
       "1    I just entered to win a Sig Sauer MPX Copperhe...  \n",
       "2    RT @BrianTh37895972: Expect to see a lot more ...  \n",
       "3    Download Mobi Python Web Scraping Cookbook: Ov...  \n",
       "4    RT @MrBriit: Special Udemy DISCOUNT Today: htt...  \n",
       "..                                                 ...  \n",
       "130  RT @RobertKennedyJr: The pandemic handed #Orac...  \n",
       "131  RT @CriticalEssay1: HMU for\\n#Statistics\\n#Lit...  \n",
       "132  RT @LaForge_AI: 4 Ways to Overcome AI Obstacle...  \n",
       "133  RT @CriticalEssay1: HMU for\\n#Statistics\\n#Lit...  \n",
       "134  RT @ComedyMovieLine: Monty Python and the Holy...  \n",
       "\n",
       "[135 rows x 2 columns]"
      ]
     },
     "execution_count": 74,
     "metadata": {},
     "output_type": "execute_result"
    }
   ],
   "source": [
    "# Imprimindo o dataframe\n",
    "df"
   ]
  },
  {
   "cell_type": "code",
   "execution_count": 75,
   "metadata": {},
   "outputs": [],
   "source": [
    "# Importando o módulo Scikit Learn\n",
    "from sklearn.feature_extraction.text import CountVectorizer"
   ]
  },
  {
   "cell_type": "code",
   "execution_count": 76,
   "metadata": {},
   "outputs": [
    {
     "data": {
      "text/plain": [
       "'0.23.1'"
      ]
     },
     "execution_count": 76,
     "metadata": {},
     "output_type": "execute_result"
    }
   ],
   "source": [
    "import sklearn\n",
    "sklearn.__version__"
   ]
  },
  {
   "cell_type": "code",
   "execution_count": 77,
   "metadata": {},
   "outputs": [],
   "source": [
    "# Usando o método CountVectorizer para criar uma matriz de documentos\n",
    "cv = CountVectorizer()\n",
    "count_matrix = cv.fit_transform(df.text)"
   ]
  },
  {
   "cell_type": "code",
   "execution_count": 78,
   "metadata": {},
   "outputs": [
    {
     "data": {
      "text/html": [
       "<div>\n",
       "<style scoped>\n",
       "    .dataframe tbody tr th:only-of-type {\n",
       "        vertical-align: middle;\n",
       "    }\n",
       "\n",
       "    .dataframe tbody tr th {\n",
       "        vertical-align: top;\n",
       "    }\n",
       "\n",
       "    .dataframe thead th {\n",
       "        text-align: right;\n",
       "    }\n",
       "</style>\n",
       "<table border=\"1\" class=\"dataframe\">\n",
       "  <thead>\n",
       "    <tr style=\"text-align: right;\">\n",
       "      <th></th>\n",
       "      <th>word</th>\n",
       "      <th>count</th>\n",
       "    </tr>\n",
       "  </thead>\n",
       "  <tbody>\n",
       "    <tr>\n",
       "      <th>0</th>\n",
       "      <td>rt</td>\n",
       "      <td>95</td>\n",
       "    </tr>\n",
       "    <tr>\n",
       "      <th>1</th>\n",
       "      <td>python</td>\n",
       "      <td>74</td>\n",
       "    </tr>\n",
       "    <tr>\n",
       "      <th>2</th>\n",
       "      <td>the</td>\n",
       "      <td>65</td>\n",
       "    </tr>\n",
       "    <tr>\n",
       "      <th>3</th>\n",
       "      <td>to</td>\n",
       "      <td>60</td>\n",
       "    </tr>\n",
       "    <tr>\n",
       "      <th>4</th>\n",
       "      <td>https</td>\n",
       "      <td>55</td>\n",
       "    </tr>\n",
       "    <tr>\n",
       "      <th>5</th>\n",
       "      <td>co</td>\n",
       "      <td>53</td>\n",
       "    </tr>\n",
       "    <tr>\n",
       "      <th>6</th>\n",
       "      <td>and</td>\n",
       "      <td>38</td>\n",
       "    </tr>\n",
       "    <tr>\n",
       "      <th>7</th>\n",
       "      <td>at</td>\n",
       "      <td>32</td>\n",
       "    </tr>\n",
       "    <tr>\n",
       "      <th>8</th>\n",
       "      <td>amp</td>\n",
       "      <td>30</td>\n",
       "    </tr>\n",
       "    <tr>\n",
       "      <th>9</th>\n",
       "      <td>entered</td>\n",
       "      <td>29</td>\n",
       "    </tr>\n",
       "    <tr>\n",
       "      <th>10</th>\n",
       "      <td>sauer</td>\n",
       "      <td>29</td>\n",
       "    </tr>\n",
       "    <tr>\n",
       "      <th>11</th>\n",
       "      <td>copperhead</td>\n",
       "      <td>29</td>\n",
       "    </tr>\n",
       "    <tr>\n",
       "      <th>12</th>\n",
       "      <td>colt</td>\n",
       "      <td>29</td>\n",
       "    </tr>\n",
       "    <tr>\n",
       "      <th>13</th>\n",
       "      <td>from</td>\n",
       "      <td>29</td>\n",
       "    </tr>\n",
       "    <tr>\n",
       "      <th>14</th>\n",
       "      <td>sig</td>\n",
       "      <td>29</td>\n",
       "    </tr>\n",
       "    <tr>\n",
       "      <th>15</th>\n",
       "      <td>revolver</td>\n",
       "      <td>29</td>\n",
       "    </tr>\n",
       "    <tr>\n",
       "      <th>16</th>\n",
       "      <td>mpx</td>\n",
       "      <td>29</td>\n",
       "    </tr>\n",
       "    <tr>\n",
       "      <th>17</th>\n",
       "      <td>win</td>\n",
       "      <td>29</td>\n",
       "    </tr>\n",
       "    <tr>\n",
       "      <th>18</th>\n",
       "      <td>3500</td>\n",
       "      <td>28</td>\n",
       "    </tr>\n",
       "    <tr>\n",
       "      <th>19</th>\n",
       "      <td>valued</td>\n",
       "      <td>28</td>\n",
       "    </tr>\n",
       "    <tr>\n",
       "      <th>20</th>\n",
       "      <td>classicfirearm</td>\n",
       "      <td>28</td>\n",
       "    </tr>\n",
       "    <tr>\n",
       "      <th>21</th>\n",
       "      <td>just</td>\n",
       "      <td>28</td>\n",
       "    </tr>\n",
       "    <tr>\n",
       "      <th>22</th>\n",
       "      <td>data</td>\n",
       "      <td>23</td>\n",
       "    </tr>\n",
       "    <tr>\n",
       "      <th>23</th>\n",
       "      <td>for</td>\n",
       "      <td>22</td>\n",
       "    </tr>\n",
       "    <tr>\n",
       "      <th>24</th>\n",
       "      <td>you</td>\n",
       "      <td>19</td>\n",
       "    </tr>\n",
       "    <tr>\n",
       "      <th>25</th>\n",
       "      <td>of</td>\n",
       "      <td>17</td>\n",
       "    </tr>\n",
       "    <tr>\n",
       "      <th>26</th>\n",
       "      <td>en</td>\n",
       "      <td>15</td>\n",
       "    </tr>\n",
       "    <tr>\n",
       "      <th>27</th>\n",
       "      <td>buscando</td>\n",
       "      <td>14</td>\n",
       "    </tr>\n",
       "    <tr>\n",
       "      <th>28</th>\n",
       "      <td>estoy</td>\n",
       "      <td>14</td>\n",
       "    </tr>\n",
       "    <tr>\n",
       "      <th>29</th>\n",
       "      <td>de</td>\n",
       "      <td>13</td>\n",
       "    </tr>\n",
       "    <tr>\n",
       "      <th>30</th>\n",
       "      <td>are</td>\n",
       "      <td>13</td>\n",
       "    </tr>\n",
       "    <tr>\n",
       "      <th>31</th>\n",
       "      <td>in</td>\n",
       "      <td>13</td>\n",
       "    </tr>\n",
       "    <tr>\n",
       "      <th>32</th>\n",
       "      <td>science</td>\n",
       "      <td>11</td>\n",
       "    </tr>\n",
       "    <tr>\n",
       "      <th>33</th>\n",
       "      <td>with</td>\n",
       "      <td>11</td>\n",
       "    </tr>\n",
       "    <tr>\n",
       "      <th>34</th>\n",
       "      <td>javascript</td>\n",
       "      <td>10</td>\n",
       "    </tr>\n",
       "    <tr>\n",
       "      <th>35</th>\n",
       "      <td>ceo</td>\n",
       "      <td>10</td>\n",
       "    </tr>\n",
       "    <tr>\n",
       "      <th>36</th>\n",
       "      <td>this</td>\n",
       "      <td>10</td>\n",
       "    </tr>\n",
       "    <tr>\n",
       "      <th>37</th>\n",
       "      <td>sweepstakes</td>\n",
       "      <td>9</td>\n",
       "    </tr>\n",
       "    <tr>\n",
       "      <th>38</th>\n",
       "      <td>is</td>\n",
       "      <td>9</td>\n",
       "    </tr>\n",
       "    <tr>\n",
       "      <th>39</th>\n",
       "      <td>what</td>\n",
       "      <td>9</td>\n",
       "    </tr>\n",
       "    <tr>\n",
       "      <th>40</th>\n",
       "      <td>big</td>\n",
       "      <td>9</td>\n",
       "    </tr>\n",
       "    <tr>\n",
       "      <th>41</th>\n",
       "      <td>golang</td>\n",
       "      <td>8</td>\n",
       "    </tr>\n",
       "    <tr>\n",
       "      <th>42</th>\n",
       "      <td>life</td>\n",
       "      <td>8</td>\n",
       "    </tr>\n",
       "    <tr>\n",
       "      <th>43</th>\n",
       "      <td>now</td>\n",
       "      <td>8</td>\n",
       "    </tr>\n",
       "    <tr>\n",
       "      <th>44</th>\n",
       "      <td>vast</td>\n",
       "      <td>8</td>\n",
       "    </tr>\n",
       "    <tr>\n",
       "      <th>45</th>\n",
       "      <td>dance</td>\n",
       "      <td>8</td>\n",
       "    </tr>\n",
       "    <tr>\n",
       "      <th>46</th>\n",
       "      <td>oracle</td>\n",
       "      <td>8</td>\n",
       "    </tr>\n",
       "    <tr>\n",
       "      <th>47</th>\n",
       "      <td>datasets</td>\n",
       "      <td>8</td>\n",
       "    </tr>\n",
       "    <tr>\n",
       "      <th>48</th>\n",
       "      <td>eckhart</td>\n",
       "      <td>8</td>\n",
       "    </tr>\n",
       "    <tr>\n",
       "      <th>49</th>\n",
       "      <td>softwareengineer</td>\n",
       "      <td>8</td>\n",
       "    </tr>\n",
       "  </tbody>\n",
       "</table>\n",
       "</div>"
      ],
      "text/plain": [
       "                word  count\n",
       "0                 rt     95\n",
       "1             python     74\n",
       "2                the     65\n",
       "3                 to     60\n",
       "4              https     55\n",
       "5                 co     53\n",
       "6                and     38\n",
       "7                 at     32\n",
       "8                amp     30\n",
       "9            entered     29\n",
       "10             sauer     29\n",
       "11        copperhead     29\n",
       "12              colt     29\n",
       "13              from     29\n",
       "14               sig     29\n",
       "15          revolver     29\n",
       "16               mpx     29\n",
       "17               win     29\n",
       "18              3500     28\n",
       "19            valued     28\n",
       "20    classicfirearm     28\n",
       "21              just     28\n",
       "22              data     23\n",
       "23               for     22\n",
       "24               you     19\n",
       "25                of     17\n",
       "26                en     15\n",
       "27          buscando     14\n",
       "28             estoy     14\n",
       "29                de     13\n",
       "30               are     13\n",
       "31                in     13\n",
       "32           science     11\n",
       "33              with     11\n",
       "34        javascript     10\n",
       "35               ceo     10\n",
       "36              this     10\n",
       "37       sweepstakes      9\n",
       "38                is      9\n",
       "39              what      9\n",
       "40               big      9\n",
       "41            golang      8\n",
       "42              life      8\n",
       "43               now      8\n",
       "44              vast      8\n",
       "45             dance      8\n",
       "46            oracle      8\n",
       "47          datasets      8\n",
       "48           eckhart      8\n",
       "49  softwareengineer      8"
      ]
     },
     "execution_count": 78,
     "metadata": {},
     "output_type": "execute_result"
    }
   ],
   "source": [
    "# Contando o número de ocorrências das principais palavras em nosso dataset\n",
    "word_count = pd.DataFrame(cv.get_feature_names(), columns=[\"word\"])\n",
    "word_count[\"count\"] = count_matrix.sum(axis=0).tolist()[0]\n",
    "word_count = word_count.sort_values(\"count\", ascending=False).reset_index(drop=True)\n",
    "word_count[:50]"
   ]
  },
  {
   "cell_type": "markdown",
   "metadata": {},
   "source": [
    "# Fim"
   ]
  },
  {
   "cell_type": "markdown",
   "metadata": {},
   "source": [
    "### Obrigado - Data Science Academy - <a href=\"http://facebook.com/dsacademybr\">facebook.com/dsacademybr</a>"
   ]
  }
 ],
 "metadata": {
  "kernelspec": {
   "display_name": "Python 3",
   "language": "python",
   "name": "python3"
  },
  "language_info": {
   "codemirror_mode": {
    "name": "ipython",
    "version": 3
   },
   "file_extension": ".py",
   "mimetype": "text/x-python",
   "name": "python",
   "nbconvert_exporter": "python",
   "pygments_lexer": "ipython3",
   "version": "3.8.3"
  }
 },
 "nbformat": 4,
 "nbformat_minor": 1
}
